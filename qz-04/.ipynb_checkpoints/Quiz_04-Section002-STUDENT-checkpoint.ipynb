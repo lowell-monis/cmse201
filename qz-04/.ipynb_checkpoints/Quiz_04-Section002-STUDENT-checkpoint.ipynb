{
 "cells": [
  {
   "cell_type": "markdown",
   "id": "6ac1403f-3bcf-420e-996c-00e27a9e45a1",
   "metadata": {},
   "source": [
    "# CMSE 201: Quiz 4 (Spring 2024)\n",
    "\n",
    "## <p style=\"text-align: right;\"> &#9989; Lowell Monis/p>"
   ]
  },
  {
   "cell_type": "markdown",
   "id": "b08ebd34-95b3-4129-a61f-a12a5f2bcf3e",
   "metadata": {},
   "source": [
    "\n",
    "The goal of this quiz is to give you the opportunity to test out more of the skills that you've developed thus far this semester. In particular, you'll reflect on what you know about writing code using Python and showcase some of your more recently acquired programming skills.\n",
    "\n",
    "**Important note about using online resources**: This exam is \"open internet\". That means that you can look up documentation, google how to accomplish certain Python tasks, etc. Being able to effectively use the internet for computational modeling and data science is a very important skill, so we want to make sure you have the opportunity to exercise that skill. **However, the use of any person-to-person communication software is absolutely not acceptable.**\n",
    "\n",
    "**Do your own work.** This quiz is designed to give *you* the opportunity to show the instructor what you can do and you should hold yourself accountable for maintaining a high level of academic integrity. Any violation of academic integrity could result in you receiving a zero on the quiz.\n",
    "\n",
    "**If ChatGPT is used**, _you must cite it_ with the access date and the prompt as described in the course [Generative AI policy](https://msu-cmse-courses.github.io/cmse201-S24-jb/Course_Materials-201/AI_Policy/CMSE201_GenerativeAI_Policy.html). Without appropriate citation, you may **receive partial or no credit.**\n",
    "\n",
    "\n",
    "There are a total of **42 points** possible on this quiz and each part of the quiz can be done independently. **If you get stuck _move on to another part of the quiz to earn some points there!_**\n",
    "\n",
    "\n",
    "![Moira](https://media.giphy.com/media/26gs78HRO8sOuhTkQ/giphy.gif)"
   ]
  },
  {
   "cell_type": "markdown",
   "id": "7b8bb320-18cb-47a9-80b5-c41cc8639068",
   "metadata": {
    "ExecuteTime": {
     "end_time": "2023-04-03T16:42:19.977036Z",
     "start_time": "2023-04-03T16:42:19.973227Z"
    }
   },
   "source": [
    "---\n",
    "<a id=\"toc\"></a>\n",
    "\n",
    "## Table of Contents\n",
    "\n",
    "[Part 0. Academic Integrity Statement](#part_0) (1 point)\n",
    "\n",
    "[Part 1. Curve_fit](#part_1)  (18 points)\n",
    "\n",
    "[Part 2. Solve_ivp](#part_1)  (23 points)\n"
   ]
  },
  {
   "cell_type": "code",
   "execution_count": 1,
   "id": "1bf21f35-4679-4444-aaac-451f074ac3b3",
   "metadata": {
    "ExecuteTime": {
     "end_time": "2023-04-03T16:42:40.056628Z",
     "start_time": "2023-04-03T16:42:40.054007Z"
    },
    "tags": []
   },
   "outputs": [
    {
     "name": "stdout",
     "output_type": "stream",
     "text": [
      "The total number of points is : 42\n"
     ]
    }
   ],
   "source": [
    "points_list = [1, 18, 23]\n",
    "\n",
    "print(f\"The total number of points is : {sum(points_list)}\")"
   ]
  },
  {
   "cell_type": "markdown",
   "id": "8a2ddba6-8b68-4e21-bb1f-6ea1bd767ad5",
   "metadata": {},
   "source": [
    "---\n",
    "<a id=\"part_0\"></a>\n",
    "\n",
    "# Part 0. Academic integrity statement (1 points)\n",
    "\n",
    "[Back to Top](#toc)\n",
    "\n",
    "In the markdown cell below, put your personal academic integrity statement. By including this statement, you are confirming that you are submitting this as your own work and not that of someone else.\n"
   ]
  },
  {
   "cell_type": "markdown",
   "id": "ed29d3f8-c46d-414a-984f-45dd1a7e9618",
   "metadata": {},
   "source": [
    "<font size=+3>&#9998;</font> \n",
    "\n",
    "*I, `Lowell Paul Monis`, commit to the standard of integrity demanded from me as a Spartan. I recall the Spartan Code of Honor and Ethics, and invoke it within the scope of my own personal invocation of ethics in this declaration. Keeping in mind the blood, sweat, and tears behind my sheer existence on this campus, the joy and encouragement I receive from a succesfull venture, and my firm belief in hard and honest work, I will strive to ensure that all work done in order to fulfill the requirements of this course is my own, bona fide effort, and if I do use any source of information and incorporate it in my work, I will fortify my usage of that source with appropriate attribution. I will stand by this statement on pain of penalty, as the instructor deems fit.*"
   ]
  },
  {
   "cell_type": "code",
   "execution_count": 2,
   "id": "546ee40a-5e9e-450f-ab1a-0f7424e672d2",
   "metadata": {
    "ExecuteTime": {
     "end_time": "2023-04-03T16:37:20.019134Z",
     "start_time": "2023-04-03T16:37:18.704180Z"
    },
    "tags": []
   },
   "outputs": [],
   "source": [
    "import numpy as np\n",
    "import matplotlib.pyplot as plt\n",
    "%matplotlib inline\n",
    "from scipy.integrate import solve_ivp\n"
   ]
  },
  {
   "cell_type": "markdown",
   "id": "a4639997-1321-465a-9eae-445770dc1025",
   "metadata": {},
   "source": [
    "---\n",
    "<a id=\"part_1\"></a>\n",
    "\n",
    "# Part 1. Fitting a model to data with `curve_fit` and visualizing the results (18 points)\n",
    "[Back to Top](#toc)\n",
    "\n",
    "We have studied building ordinary differential equations (ODEs) and solving it by `solve_ivp`. Using `curve_fit` to fit the numerical solution can always give us inspiration to find the true solution. In previous assignments, you have used `solve_ivp` to compute the numeric solution of the logistic model of the growth of a single population. Recall, the Logistic population model is described by the following differential equations:\n",
    "\n",
    "\\begin{equation}\n",
    "\\frac{dP}{dt} = kP\\Big(1-\\frac{P}{C}\\Big),\n",
    "\\end{equation}\n",
    "\n",
    "where $P =$ population, $k =$ growth rate, and $C =$ the carrying capacity. \n",
    "\n",
    "Examples code for computing the solution for for $P_0 =0.4$ billion (initial population), $k=1$, and $C =3$ billion is provided below:\n"
   ]
  },
  {
   "cell_type": "code",
   "execution_count": 3,
   "id": "6841d6d9",
   "metadata": {
    "tags": []
   },
   "outputs": [
    {
     "data": {
      "text/plain": [
       "Text(0, 0.5, 'p_solution')"
      ]
     },
     "execution_count": 3,
     "metadata": {},
     "output_type": "execute_result"
    },
    {
     "data": {
      "image/png": "[encoded data removed]",
      "text/plain": [
       "<Figure size 640x480 with 1 Axes>"
      ]
     },
     "metadata": {},
     "output_type": "display_data"
    }
   ],
   "source": [
    "# example code to compute a numeric solution of the logistic model\n",
    "\n",
    "# define the derivative\n",
    "def logistic(time, current_state):\n",
    "    p = current_state   \n",
    "    dpdt = p*(1-p/3)    \n",
    "    return dpdt\n",
    "\n",
    "# compute numeric solution\n",
    "initial_p = [0.4]\n",
    "time = np.linspace(0,10,50)\n",
    "\n",
    "result = solve_ivp(logistic, (0,10), initial_p, t_eval = time)\n",
    "\n",
    "# unpack solution\n",
    "numerical_p = result.y[0,:]\n",
    "\n",
    "# Make a plot of the result \n",
    "fig1 = plt.figure(1)\n",
    "plt.scatter(time,numerical_p, color=\"green\")\n",
    "plt.xlabel(\"Time\")\n",
    "plt.ylabel(\"p_solution\")"
   ]
  },
  {
   "cell_type": "markdown",
   "id": "6bd6c381",
   "metadata": {},
   "source": [
    "---\n",
    "\n",
    "#### &#9989;&nbsp; **Question 1.1 (8 points):** \n",
    "\n",
    "Using the time array `time` and numerical solution `numeriical_p` data and provided model below, use `curve_fit` to find best fit parameters for *a, b,* *c*,and *d*. Make sure you give `curve_fit` a good starting point for finding the best fit parameters using the `p0` argument and these starting values:\n",
    "* a = 0.5\n",
    "* b = 3\n",
    "* c = -0.5\n",
    "* d = 1\n",
    "\n"
   ]
  },
  {
   "cell_type": "code",
   "execution_count": 4,
   "id": "b650c788",
   "metadata": {
    "tags": []
   },
   "outputs": [],
   "source": [
    "# Will need to use NumPy for the function\n",
    "import numpy as np\n",
    "\n",
    "# Will need to import curve_fit from SciPy\n",
    "from scipy.optimize import curve_fit\n",
    "\n",
    "# This function define the logistic function\n",
    "def logistic_f(t,a,b,c,d):\n",
    "    return a/(b*np.exp(c*t)+d)"
   ]
  },
  {
   "cell_type": "code",
   "execution_count": 5,
   "id": "9249b3a7",
   "metadata": {
    "tags": []
   },
   "outputs": [],
   "source": [
    "# Answer:\n",
    "\n",
    "# initializing parameters\n",
    "a = 0.5\n",
    "b = 3\n",
    "c = -0.5\n",
    "d = 1\n",
    "\n",
    "# finding best fit parameters\n",
    "logistic_fit, error_matrix = curve_fit(logistic_f, time, numerical_p, p0 = [a, b, c, d])\n",
    "\n",
    "# unpacking the parameters\n",
    "a_fit = logistic_fit[0]\n",
    "b_fit = logistic_fit[1]\n",
    "c_fit = logistic_fit[2]\n",
    "d_fit = logistic_fit[3]"
   ]
  },
  {
   "cell_type": "markdown",
   "id": "933e29a2",
   "metadata": {},
   "source": [
    "&#9989;&nbsp; **Part 1.2 (10 points)**\n",
    "\n",
    "Now that you have a set of best fit parameters, **use those parameters to calculate the expected model values and plot the expected model values on top of the actual data values**. Make sure to label your axes and include a legend to communicate what parts of the plot correspond to the model versus the data."
   ]
  },
  {
   "cell_type": "code",
   "execution_count": 6,
   "id": "af6d7a5f",
   "metadata": {
    "tags": []
   },
   "outputs": [
    {
     "data": {
      "text/plain": [
       "<matplotlib.legend.Legend at 0x7f099546e6d0>"
      ]
     },
     "execution_count": 6,
     "metadata": {},
     "output_type": "execute_result"
    },
    {
     "data": {
      "image/png": "[encoded data removed]",
      "text/plain": [
       "<Figure size 500x500 with 1 Axes>"
      ]
     },
     "metadata": {},
     "output_type": "display_data"
    }
   ],
   "source": [
    "# Answer:\n",
    "\n",
    "# applying new parameters to find data points for line of best fit\n",
    "\n",
    "y = logistic_f(time, a_fit, b_fit, c_fit, d_fit)\n",
    "\n",
    "# creating the plot\n",
    "\n",
    "plt.figure(figsize = (5, 5)) # setting the figure size\n",
    "plt.scatter(time, numerical_p, color = \"green\", label = \"Actual Values\") # plotting the actual data points\n",
    "plt.plot(time, y, \"red\", label = \"Projected Values\") # plotting the line of best fit\n",
    "plt.xlabel(\"Time\")\n",
    "plt.ylabel(\"Population\")\n",
    "plt.legend()"
   ]
  },
  {
   "cell_type": "markdown",
   "id": "2595a94e",
   "metadata": {},
   "source": [
    "---\n",
    "## Part 2: Modeling a system using `solve_ivp` (23 points)"
   ]
  },
  {
   "cell_type": "markdown",
   "id": "c08bdff5",
   "metadata": {},
   "source": [
    "Now you wonder: what happens if there are two different species competing for the same resources? (Such as the great white sharks and the seven-gill sharks &#x1F609;) How would the population growth of one species interfere with that of the other? \n",
    "\n",
    "Luckily, such models already exist. One of them is a generalization of the logistic model to take into account resource competition between two species $u$ and $v$ and we have the following competitive Lotka-Volterra model:\n",
    "\n",
    "$$ \\frac{du}{dt} = r_1u(1-(\\frac{u +a_{12} v}{K_1}))$$\n",
    "$$ \\frac{dv}{dt} = r_2v(1 -(\\frac{v + a_{21}u}{K_2})).$$\n",
    "\n",
    "Here, $a_{12}$ represents the competitive effect species $v$ has on the population of species $u$ and $a_{21}$ represents the competitive effect species u has on the population of species v. These values do not have to be equal. Because this is the competitive version of the model, all interactions must be harmful (competition) and therefore all a-values are positive.\n",
    "\n",
    "After scaling, the **two species competitive Lotka-Volterra model** can become to the simplified case:\n",
    "\\begin{align}\n",
    "\\frac{du}{dt} &= u(1-u -\\alpha v)  &(1)\\\\\n",
    "\\frac{dv}{dt} &= rv(1 -v-\\beta u). &(2)\n",
    "\\end{align}\n",
    "\n",
    "We say that the competition on the species u (resp.\n",
    "on the species v) is **strong** if $\\alpha > 1$ (resp. $\\beta > 1$).We say that the competition on the species\n",
    "u (resp. on the species v) is **weak** if $0 < \\alpha < 1$ (resp. $0 < \\beta< 1$). \n",
    "\n",
    "**Your job for this part is implementing and computing the numeric solutions for the two species competitive Lotka-Volterra model as described by equations 1 and 2 above. You can do so by adapting the code for the logistic model above.**"
   ]
  },
  {
   "cell_type": "markdown",
   "id": "69bf3229",
   "metadata": {},
   "source": [
    "&#9989;&nbsp; **Part 2.1 (8 points)**  \n",
    "Define the derivative function for the two species competitive Lotka-Volterra model in the cell below (to be used as an input later for `solve_ivp` -- so pay attention to the format)."
   ]
  },
  {
   "cell_type": "code",
   "execution_count": 7,
   "id": "755d4dce",
   "metadata": {
    "tags": []
   },
   "outputs": [],
   "source": [
    "# Answer:\n",
    "\n",
    "# defining the derivative functions\n",
    "\n",
    "def derivs(time, curr_vals):\n",
    "    \n",
    "    # Unpack the current values of the variables we wish to \"update\" from the curr_vals list\n",
    "    u, v = curr_vals\n",
    "    \n",
    "    # Right-hand side of odes, which are used to compute the derivative\n",
    "    dudt = u*(1-u-(alpha*v))\n",
    "    dvdt = r*v*(1-v-(beta*u))\n",
    "    \n",
    "    return dudt, dvdt"
   ]
  },
  {
   "cell_type": "markdown",
   "id": "d7003969",
   "metadata": {},
   "source": [
    "&#9989;&nbsp; **Part 2.2 (6 points)**\n",
    "\n",
    "Using `solve_ivp`, compute the numeric solution for two species competitive Lotka-Volterra model with the parameters $r=1$, $\\alpha=2,$ $\\beta =3/4$, the initial conditions $[u_0,v_0]= [0.9,0.5]$, and the final time equal 30. Unpack the result you get from `solve_ivp` into separate variables `u` and `v`."
   ]
  },
  {
   "cell_type": "code",
   "execution_count": 8,
   "id": "45c421b7",
   "metadata": {
    "tags": []
   },
   "outputs": [],
   "source": [
    "# Answer:\n",
    "\n",
    "# initializing the parameters\n",
    "r = 1\n",
    "alpha = 2\n",
    "beta = 3/4\n",
    "u0 = 0.9\n",
    "v0 = 0.5\n",
    "init = [u0, v0]\n",
    "tmax = 30\n",
    "dt = 0.01\n",
    "\n",
    "# creating the time values\n",
    "time = np.arange(0, tmax + dt, dt)\n",
    "\n",
    "# solving the ODE\n",
    "sol = solve_ivp(derivs, (0,tmax), init, t_eval = time)\n",
    "\n",
    "# unpacking the solutions\n",
    "u = sol.y[0,:]\n",
    "v = sol.y[1,:]\n",
    "t = sol.t"
   ]
  },
  {
   "cell_type": "markdown",
   "id": "5c4eadc5",
   "metadata": {},
   "source": [
    "&#9989;&nbsp; **Part 2.3 (4 points)**\n",
    "\n",
    "Plot the solutions of $u$ and $v$ as a function of time in the cell below. Be sure to add appropriate axis labels and legends. "
   ]
  },
  {
   "cell_type": "code",
   "execution_count": 9,
   "id": "ead88d89",
   "metadata": {
    "tags": []
   },
   "outputs": [
    {
     "data": {
      "text/plain": [
       "<matplotlib.legend.Legend at 0x7f098a591d10>"
      ]
     },
     "execution_count": 9,
     "metadata": {},
     "output_type": "execute_result"
    },
    {
     "data": {
      "image/png": "[encoded data removed]",
      "text/plain": [
       "<Figure size 500x500 with 1 Axes>"
      ]
     },
     "metadata": {},
     "output_type": "display_data"
    }
   ],
   "source": [
    "# Answer:\n",
    "\n",
    "plt.figure(figsize = (5, 5)) # setting the figure size\n",
    "plt.plot(t, u, \"red\", label = \"Species u\") # plotting u values\n",
    "plt.plot(t, v, \"blue\", label = \"Species v\") # plotting v values\n",
    "plt.xlabel(\"Time\")\n",
    "plt.ylabel(\"Population\")\n",
    "plt.legend()"
   ]
  },
  {
   "cell_type": "markdown",
   "id": "321fe188",
   "metadata": {},
   "source": [
    "&#9989;&nbsp; **Part 2.4 (5 points)**\n",
    "\n",
    "When $1 < \\alpha$ and $0 <\\beta <1$, we call the model a stong weak competitive Lotka-Volterra model. Based on the plot above, answer the following questions:\n",
    "\n",
    "1. Based on the plot, which species was more successful at the beginning? which species was more successful at the end? Here success is measured by population size. \n",
    "\n",
    "2. Based on the plot, which species was more competitive?\n",
    "\n",
    "3. Connecting your visual interpretations to the model parameters $\\alpha$ and $\\beta$, explain how these two parameters determine which species is strongly competitive and which species is weakly competitive.\n",
    "\n"
   ]
  },
  {
   "cell_type": "markdown",
   "id": "c8cec5d0",
   "metadata": {},
   "source": [
    "<font size=6 color=\"#009600\">&#9998;</font> *Answer:*\n",
    "\n",
    "1. Species $u$ was successful initially, perhaps due to its bigger population, with $v$'s population taking a hit. However, $v$ quickly recovered from the initial slump, and was successful towards the end.\n",
    "\n",
    "2. $v$ is more competitive in terms of who came out of the end of the model not extinct.\n",
    "\n",
    "3. $\\alpha$ being the competition *on* $u$, was $>1$, which is why, $u$'s population took a hit. Similarly, the competition on $v$ was $\\beta$, which was $<1$, indicating that $u$ was a weakly competitive species, and $v$, with a higher rate, was a strongly competitive species, which is why $v$ recovered despite facing a disadvantage in terms of population."
   ]
  },
  {
   "cell_type": "markdown",
   "id": "176fb174-ebf1-46bd-a4d8-77ff6e0cfc04",
   "metadata": {},
   "source": [
    "---\n",
    "\n",
    "# Congratulations, you're done!\n",
    "\n",
    "Submit this quiz by uploading it to the course Desire2Learn web page.  \n",
    "\n",
    "Go to the **Quizzes** section, find the submission folder link for **Quiz 04**, and upload it there.\n",
    "\n",
    "\n",
    "![Moira2](https://media.giphy.com/media/d1E2HnwywoTkES08/giphy.gif)"
   ]
  },
  {
   "cell_type": "code",
   "execution_count": null,
   "id": "00c330ee",
   "metadata": {},
   "outputs": [],
   "source": []
  }
 ],
 "metadata": {
  "kernelspec": {
   "display_name": "Python 3.11 (default)",
   "language": "python",
   "name": "python3"
  },
  "language_info": {
   "codemirror_mode": {
    "name": "ipython",
    "version": 3
   },
   "file_extension": ".py",
   "mimetype": "text/x-python",
   "name": "python",
   "nbconvert_exporter": "python",
   "pygments_lexer": "ipython3",
   "version": "3.11.11"
  }
 },
 "nbformat": 4,
 "nbformat_minor": 5
}
