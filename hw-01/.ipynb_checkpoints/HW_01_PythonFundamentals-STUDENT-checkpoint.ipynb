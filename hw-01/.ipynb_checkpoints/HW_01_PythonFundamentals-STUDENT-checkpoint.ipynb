{
 "cells": [
  {
   "cell_type": "markdown",
   "id": "45bb8053-48ae-4a43-9420-7531a2088f70",
   "metadata": {},
   "source": [
    "# Homework 1: Python fundamentals\n",
    "## And using external resources to better undersand code!"
   ]
  },
  {
   "cell_type": "markdown",
   "id": "369b25c4-5270-44f7-b4aa-5de43f181457",
   "metadata": {},
   "source": [
    "### <p style=\"text-align: right;\"> &#9989; **Lowell Monis** </p>\n",
    "\n",
    "Note to Grader: While it was mentioned in part 4 that if I used a `for` loop in part 2, I would have to use the `while` loop in part 4 and vice-versa. However, no instructions were given for part 3, which is why I have used a combination of the `while` loop and the `for` loop. I have also converted the intentional error snippet in part 5 to Raw mode in order to skip it for a smooth run of the notebook."
   ]
  },
  {
   "cell_type": "markdown",
   "id": "9db8f7d4-bb38-4e4d-81eb-b3f4a29e4390",
   "metadata": {},
   "source": [
    "## Learning Goals\n",
    "\n",
    "### Content Goals\n",
    "- Review the arithmetic operators in Python\n",
    "- Utilize loops to perform repeated operations and to store, access, and manipulate data in one more or lists\n",
    "- Utilize variables and lists to store and access data\n",
    "- Use conditional statements to control code flow.\n",
    "\n",
    "### Practice Goals\n",
    "- Use the internet as a resource for learning how to write code, learn new things, and troubleshoot problems\n",
    "- Solve a variety of problems using code\n",
    "- Troubleshoot errors and debug your code as issues arise (you'll do this all the time in this course!)\n",
    "___\n",
    "\n"
   ]
  },
  {
   "cell_type": "markdown",
   "id": "e2d25c6b-8ba7-4899-b2aa-e1c9db4ade5c",
   "metadata": {},
   "source": [
    "## Assignment instructions\n",
    "\n",
    "Work through the following assignment, making sure to follow all the directions and answer all the questions.\n",
    "\n",
    "**This assignment is due at 11:59 pm on Friday, February 2.** It should be uploaded into the \"Homework Assignments\" submission folder for Homework #1.  Submission instructions can be found at the end of the notebook.\n"
   ]
  },
  {
   "cell_type": "markdown",
   "id": "3c95e3e0-bf6e-4735-aa5c-ffdf3b4b69a4",
   "metadata": {},
   "source": [
    "---\n",
    "## Version check\n",
    "\n",
    "Before you begin, make sure your Jupyter kernel is Python 3. There are significant differences between Python 2 and Python 3, and we use Python 3 in this course. The kernel type at the upper-right corner should say \"Python 3\", and the following code should show a version of the form: `3.x.y` (where \"x\" and \"y\" are the sub-version numbers).\n",
    "\n",
    "If your kernel is Python 2, try selecting Python 3 from the Kernel menu above under the sub-menu \"Change kernel\". If that does not work, consult the Teams help channel for assistance."
   ]
  },
  {
   "cell_type": "code",
   "execution_count": 1,
   "id": "df6fc368-2a6f-4a95-83c1-89279fbc61b3",
   "metadata": {
    "tags": []
   },
   "outputs": [
    {
     "name": "stdout",
     "output_type": "stream",
     "text": [
      "3.11.11 | packaged by conda-forge | (main, Dec  5 2024, 14:17:24) [GCC 13.3.0]\n"
     ]
    }
   ],
   "source": [
    "import sys\n",
    "print(sys.version)"
   ]
  },
  {
   "cell_type": "markdown",
   "id": "e27dda44-fb98-447c-8c6d-cd8a251b38ee",
   "metadata": {},
   "source": [
    "---\n",
    "<a id=\"toc\"></a>\n",
    "\n",
    "## Table of Contents\n",
    "\n",
    "[Part 0. Integrity statement and office hours](#part_0) (4 point)\n",
    "\n",
    "[Part 1. Doing basic math with Python](#part_1)  (6 points)\n",
    "\n",
    "[Part 2. Finding common divisors](#part_2) (4 points)\n",
    "\n",
    "[Part 3. Fibonacci numbers](#part_3)  (14 points)\n",
    "\n",
    "[Part 4. Amortizing loans](#part_4) (16 points)\n",
    "\n",
    "[Part 5. Dictionaries and everything else](#part_5) (7 points)\n",
    "\n",
    "[Part 6. Conditional statements and debugging](#part_6) (6 points)"
   ]
  },
  {
   "cell_type": "code",
   "execution_count": 2,
   "id": "b82268ef-c236-4bb0-991d-231b9a3c31bc",
   "metadata": {},
   "outputs": [
    {
     "name": "stdout",
     "output_type": "stream",
     "text": [
      "The total number of points is : 57\n"
     ]
    }
   ],
   "source": [
    "points_list = [4, 6, 4, 14, 16, 7, 6]\n",
    "\n",
    "print(f\"The total number of points is : {sum(points_list)}\")"
   ]
  },
  {
   "cell_type": "markdown",
   "id": "07697278-efc1-44f9-b281-b7b4aece9bff",
   "metadata": {},
   "source": [
    "---\n",
    "<a id=\"part_0\"></a>\n",
    "\n",
    "## Part 0: Integrity statement and office hours\n",
    "\n",
    "[Back to Top](#toc)\n",
    "\n",
    "### 0.1 Academic integrity statement (2 Points)\n",
    "\n",
    "In the markdown cell below, paste your personal academic integrity statement. **You should have generated this in the Day 4 pre-class assignment**, if you did not do this pre-class assignment, locate that assignment, find the appropriate section, and draft your integrity statment now.\n",
    "\n",
    "By including this statement, you are confirming that you are submitting this as your own work and not that of someone else.\n"
   ]
  },
  {
   "cell_type": "markdown",
   "id": "add02426-de57-4036-8da8-2add665532c4",
   "metadata": {},
   "source": [
    "<font size=6 color=\"#009600\">&#9998;</font> \n",
    "\n",
    "*I, `Lowell Paul Monis`, commit to the standard of integrity demanded from me as a Spartan. I recall the Spartan Code of Honor and Ethics, and invoke it within the scope of my own personal invocation of ethics in this declaration. Keeping in mind the blood, sweat, and tears behind my sheer existence on this campus, the joy and encouragement I receive from a succesfull venture, and my firm belief in hard and honest work, I will strive to ensure that all work done in order to fulfill the requirements of this course is my own, bona fide effort, and if I do use any source of information and incorporate it in my work, I will fortify my usage of that source with appropriate attribution. I will stand by this statement on pain of penalty, as the instructor deems fit.*"
   ]
  },
  {
   "cell_type": "markdown",
   "id": "295e310b-e5f2-4c21-9e3b-afe0ec9813f9",
   "metadata": {},
   "source": [
    "### 0.2 Going to Office/Help Room Hours (2 Points)\n",
    "\n",
    "#### Why are we doing this?\n",
    "We want to make sure that everyone knows how to access the resources\n",
    "available to you. One of the best resources you have at your disposal is office/help room hours, which are offered by the instructors, TAs, and LAs associated with CMSE 201.\n",
    "\n",
    "#### What will you do?\n",
    "(At minimum) Go to one office hour session ​(it doesn’t matter which one you go to). Come with one question that you would like to talk about. It can be big or small. Ask your question. All of the instructional staff for CMSE 201 (section instructors, TAs, and LAs) will have access to a roster of the folks enrolled in CMSE 201 and will be able to mark off that you stopped in. As long as there ends up being a check next to your name, you’ll get credit for this part of Homework 1.\n",
    "\n",
    "If your schedule is such that none of the nearly 40 hours of office hours/help room work with your schedule. Send and email to your instructor to coordinate an option to make sure you can get credit for this part of the assignment.\n",
    "\n",
    "**NOTE:** The day when the homework is due (**Friday, February 2nd**) will be the busiest time for folks to go to office hours. You are **STRONGLY** encouraged to go to office hours before that Friday to get credit for this part of this assignment. If you show up to office/help room hours on that Friday and it's very busy, there is no guarantee that one of the instructors, TAs, or LAs will be able to check you off for this part of the assignment. (You should still feel free to go to office hours on Friday for help, though!)\n",
    "\n",
    "You can find the office hours calendar on the [course website](https://cmse.msu.edu/cmse201). There is a link to the calendar on the front page and the calendar itself is embedded near the bottom of the front page. Double-check the calendar events for details on which zoom room or physical location the office/help room hours are being held in. The information is also pinned in the cmse201-S24-help channel on Teams!"
   ]
  },
  {
   "cell_type": "markdown",
   "id": "3297235f",
   "metadata": {},
   "source": [
    "---\n",
    "<a id=\"part_1\"></a>\n",
    "\n",
    "## Part 1. Doing basic math with Python (6 points)\n",
    "\n",
    "[Back to Top](#toc)\n",
    "\n",
    "As you explored with your order of magnitude modeling assignment in the Day 2 in-class assignment, Python is great at doing basic math -- much like your favorite calculator! As you get more comfortable with writing Python code, you might find yourself writing a bit of code when you need to do some calculations instead of pulling digging out your calculator or launching the calculator app on your phone. \n",
    "\n",
    "Doing basic math with Python involves using various \"**operators**\" -- these operators are the Python symbols used to do the actual math. For example, to add two variables, we use the \"`+`\" operator. To subtract, we use the \"`-`\" operator.\n",
    "\n",
    "There are a number of other arithmetic (math) operators as well.\n",
    "\n",
    "### &#9989;&nbsp; Question 1.1 (4 points)\n",
    "\n",
    "In the markdown cell below, fill out the following table to indicate what math each operator is used for. If you don't know the answer off the top of your head, you should practice using Google (or your search engine of choice) to pick up some new Python knowledge (something even the pros do!). **Make sure you use the keyword \"python\" in your search terms when looking for these math operators.**\n",
    "\n",
    "**Remember**: You can double-click on a markdown cell to edit it."
   ]
  },
  {
   "cell_type": "markdown",
   "id": "3c372d31",
   "metadata": {},
   "source": [
    "| Arithmetic Operator Symbol |  Name of Mathematical Operation | Description |\n",
    "| :------------------------- | :------------------------------ | :---------- | \n",
    "| +                          | Addition                        | Add two variables or numbers together |\n",
    "| -                          | Subtraction                     | Subtract one variable or number from another |\n",
    "| *                          | Multiplication                  | Multiplies a variable/number with another. |\n",
    "| /                          | Division                        | Divides a variable/number by another. |\n",
    "| **                         | Exponent                        | Raises a variable/number to a power. |\n",
    "| %                          | Modulus                         | Returns the remainder of a division. |"
   ]
  },
  {
   "cell_type": "markdown",
   "id": "ff524860",
   "metadata": {},
   "source": [
    "### &#9989;&nbsp; Question 1.2 (2 Points)\n",
    "\n",
    "One arithmetic operator is missing from the table above. This is the \"Floor Division\" operator, which looks like this: `//`\n",
    "\n",
    "In your own words in the cell below, explain what this operator does. In the code cell below that, use the operator in an example to confirm that your explanation is accurate."
   ]
  },
  {
   "cell_type": "markdown",
   "id": "7aa69bac",
   "metadata": {},
   "source": [
    "<font size=6 color=\"#009600\">&#9998;</font> *The floor division operator returns the whole part of a quotient after division. In essence, it ignores the remainder and the fractional part of the quotient.*"
   ]
  },
  {
   "cell_type": "code",
   "execution_count": 3,
   "id": "a59a5d5f",
   "metadata": {
    "tags": []
   },
   "outputs": [
    {
     "name": "stdout",
     "output_type": "stream",
     "text": [
      "Division: 2.2\n",
      "Floor: 2\n"
     ]
    }
   ],
   "source": [
    "# Put your example code that showcases how the // operator works to ensure that it agrees with your explanation\n",
    "\n",
    "a = 5\n",
    "b = 11\n",
    "\n",
    "print(\"Division:\", b / a)\n",
    "print(\"Floor:\", b // a)"
   ]
  },
  {
   "cell_type": "markdown",
   "id": "a5c7d1a7-b822-4228-94b7-606eeb722df2",
   "metadata": {},
   "source": [
    "---\n",
    "<a id=\"part_2\"></a>\n",
    "\n",
    "## Part 2: Finding common divisors (4 points)\n",
    "\n",
    "[Back to Top](#toc)\n",
    "\n",
    "For this question you should write code using the tools you learned so far. The code will find all the integers in the interval from 1 to 12000 that are **divisible by both 3 and 14**. **Store** all the numbers that satisfy this criterion into a _list_ and **print** the entire list. \n",
    "\n",
    "**Hint**: Remember the logical operators `and`, `or` and `not` are available in Python."
   ]
  },
  {
   "cell_type": "code",
   "execution_count": 4,
   "id": "11dc4429-c44e-4a99-b7aa-5d00a7c6477f",
   "metadata": {
    "tags": []
   },
   "outputs": [
    {
     "name": "stdout",
     "output_type": "stream",
     "text": [
      "[0, 42, 84, 126, 168, 210, 252, 294, 336, 378, 420, 462, 504, 546, 588, 630, 672, 714, 756, 798, 840, 882, 924, 966, 1008, 1050, 1092, 1134, 1176, 1218, 1260, 1302, 1344, 1386, 1428, 1470, 1512, 1554, 1596, 1638, 1680, 1722, 1764, 1806, 1848, 1890, 1932, 1974, 2016, 2058, 2100, 2142, 2184, 2226, 2268, 2310, 2352, 2394, 2436, 2478, 2520, 2562, 2604, 2646, 2688, 2730, 2772, 2814, 2856, 2898, 2940, 2982, 3024, 3066, 3108, 3150, 3192, 3234, 3276, 3318, 3360, 3402, 3444, 3486, 3528, 3570, 3612, 3654, 3696, 3738, 3780, 3822, 3864, 3906, 3948, 3990, 4032, 4074, 4116, 4158, 4200, 4242, 4284, 4326, 4368, 4410, 4452, 4494, 4536, 4578, 4620, 4662, 4704, 4746, 4788, 4830, 4872, 4914, 4956, 4998, 5040, 5082, 5124, 5166, 5208, 5250, 5292, 5334, 5376, 5418, 5460, 5502, 5544, 5586, 5628, 5670, 5712, 5754, 5796, 5838, 5880, 5922, 5964, 6006, 6048, 6090, 6132, 6174, 6216, 6258, 6300, 6342, 6384, 6426, 6468, 6510, 6552, 6594, 6636, 6678, 6720, 6762, 6804, 6846, 6888, 6930, 6972, 7014, 7056, 7098, 7140, 7182, 7224, 7266, 7308, 7350, 7392, 7434, 7476, 7518, 7560, 7602, 7644, 7686, 7728, 7770, 7812, 7854, 7896, 7938, 7980, 8022, 8064, 8106, 8148, 8190, 8232, 8274, 8316, 8358, 8400, 8442, 8484, 8526, 8568, 8610, 8652, 8694, 8736, 8778, 8820, 8862, 8904, 8946, 8988, 9030, 9072, 9114, 9156, 9198, 9240, 9282, 9324, 9366, 9408, 9450, 9492, 9534, 9576, 9618, 9660, 9702, 9744, 9786, 9828, 9870, 9912, 9954, 9996, 10038, 10080, 10122, 10164, 10206, 10248, 10290, 10332, 10374, 10416, 10458, 10500, 10542, 10584, 10626, 10668, 10710, 10752, 10794, 10836, 10878, 10920, 10962, 11004, 11046, 11088, 11130, 11172, 11214, 11256, 11298, 11340, 11382, 11424, 11466, 11508, 11550, 11592, 11634, 11676, 11718, 11760, 11802, 11844, 11886, 11928, 11970]\n"
     ]
    }
   ],
   "source": [
    "divisible_3_14 = [] # initialize a list to store the numbers divisible by both 3 and 14.\n",
    "number = 0 # establishing a number to be checked for divisibility, and a way to control the loop.\n",
    "\n",
    "while number <= 12000: # initialize a while loop to traverse through all the integers from 1 to 12000. the loop runs until it reaches 12000.\n",
    "    if number % 3 == 0 and number % 14 == 0: # conditional-if statement to verify whether or not the number is divisible by both 3 and 14. usage of % operator to see if there is no remainder. and is used to check if both conditions are met.\n",
    "        divisible_3_14.append(number) # if the above statement is entirely true, number is appended to resultant list.\n",
    "    number += 1 # increment to control the loop.\n",
    "\n",
    "print(divisible_3_14) # prints the list."
   ]
  },
  {
   "cell_type": "markdown",
   "id": "140169fb-eb23-4560-aad9-717300d09e15",
   "metadata": {},
   "source": [
    "---\n",
    "<a id=\"part_3\"></a>\n",
    "\n",
    "## Part 3: Fibonacci numbers (14 points)\n",
    "\n",
    "[Back to Top](#toc)\n",
    "\n",
    "Why is it that the number of petals in a flower is often one of the following numbers: 3, 5, 8, 13, 21, 34 or 55? For example, the lily has three petals, buttercups have five, the chicory has 21, the daisy has often 34 or 55 petals, etc. https://thefibonaccisequence.weebly.com/flowers.html\n",
    "\n",
    "Are these numbers the product of chance? No! They all belong to the Fibonacci sequence: 1, 1, 2, 3, 5, 8, 13, 21, 34, 55, 89, 144, ..., where each number is obtained from the sum of the two preceding.  The $n$th Fibonacci number $f_n$ can be derived by $f_n = f_{n-1} + f_{n-2}$. For a long time, it had been noticed that these numbers were important in nature, but only relatively recently did we understand that this is related to efficiency during the growth process of plants. \n",
    "\n",
    "### &#9989;&nbsp; Question 3.1 (5 Points) \n",
    "In this exercise, you are given a numerical sequence that has the form $1, 1, 2, 3, 5, \\ldots$. Your goal is to write a __*loop*__ that computes 50 terms of the Fibonacci sequence. Store this sequence as a __*list*__ and then **print the entire list all at once.**. \n",
    "\n",
    "```\n",
    "[1, 1, 2, 3, 5, 8, 13, 21, 34, 55, 89, 144, 233, 377, 610, 987, 1597, 2584, 4181, 6765, 10946, 17711, 28657, 46368, 75025, 121393, 196418, 317811, 514229, 832040, 1346269, 2178309, 3524578, 5702887, 9227465, 14930352, 24157817, 39088169, 63245986, 102334155, 165580141, 267914296, 433494437, 701408733, 1134903170, 1836311903, 2971215073, 4807526976, 7778742049, 12586269025, 20365011074]\n",
    "```"
   ]
  },
  {
   "cell_type": "markdown",
   "id": "bcb234a0-dfce-4b3a-90e1-8bae3656d412",
   "metadata": {},
   "source": [
    "**Note:** If you Google Fibonacci number python code you will likely find something about _recursion_. **You are not allowed to use recursion!**. You should be able to write this code using only loops and lists! No functions needed.\n"
   ]
  },
  {
   "cell_type": "code",
   "execution_count": 5,
   "id": "5e67513f-4ebd-4e02-beaa-44c62a6cd93a",
   "metadata": {
    "tags": []
   },
   "outputs": [
    {
     "name": "stdout",
     "output_type": "stream",
     "text": [
      "[1, 1, 2, 3, 5, 8, 13, 21, 34, 55, 89, 144, 233, 377, 610, 987, 1597, 2584, 4181, 6765, 10946, 17711, 28657, 46368, 75025, 121393, 196418, 317811, 514229, 832040, 1346269, 2178309, 3524578, 5702887, 9227465, 14930352, 24157817, 39088169, 63245986, 102334155, 165580141, 267914296, 433494437, 701408733, 1134903170, 1836311903, 2971215073, 4807526976, 7778742049, 12586269025, 20365011074]\n"
     ]
    }
   ],
   "source": [
    "number0 = 0 # empty variable to facilitate the calculations.\n",
    "number1 = 1 # first entry.\n",
    "number2 = number1 # will carry new entry to the sequence.\n",
    "fibonacci = [number1] # initialize a list to store the numbers with 1 as its first member.\n",
    "counter = 1 # creates a counter to control the loop.\n",
    "\n",
    "while counter <= 50: # initialize a loop to count till 50.\n",
    "    fibonacci.append(number2) # appends the new member of the series to the list.\n",
    "    number0, number1 = number1, number2 # transfers values an index backward, storing a copy of number2 in number1, allowing us to calculate the new entry for number2.\n",
    "    number2 = number0 + number1 # updates the new number for the next iteration and addition to the list.\n",
    "    counter += 1 # increments the counter for each iteration.\n",
    "\n",
    "print(fibonacci) # prints the sequence."
   ]
  },
  {
   "cell_type": "markdown",
   "id": "2a114db3-4e96-4c12-b02f-54c9fa8c95f3",
   "metadata": {},
   "source": [
    "### &#9989;&nbsp; Question 3.2 (5 Points)  \n",
    "Once you have your list of Fibonacci numbers, use it to calculate the ratios $R_n = f_{n}/f_{n+1}$ and store it into a new list. \n",
    "At the end print the entire new list all at once. "
   ]
  },
  {
   "cell_type": "code",
   "execution_count": 6,
   "id": "c65c5267-da64-4848-b661-03b5320036df",
   "metadata": {
    "tags": []
   },
   "outputs": [
    {
     "name": "stdout",
     "output_type": "stream",
     "text": [
      "Ratios: [1.0, 2.0, 1.5, 1.6666666666666667, 1.6, 1.625, 1.6153846153846154, 1.619047619047619, 1.6176470588235294, 1.6181818181818182, 1.6179775280898876, 1.6180555555555556, 1.6180257510729614, 1.6180371352785146, 1.618032786885246, 1.618034447821682, 1.6180338134001253, 1.618034055727554, 1.6180339631667064, 1.6180339985218033, 1.618033985017358, 1.6180339901755971, 1.618033988205325, 1.618033988957902, 1.6180339886704431, 1.6180339887802426, 1.618033988738303, 1.6180339887543225, 1.6180339887482036, 1.6180339887505408, 1.6180339887496482, 1.618033988749989, 1.618033988749859, 1.6180339887499087, 1.6180339887498896, 1.618033988749897, 1.618033988749894, 1.6180339887498951, 1.6180339887498947, 1.618033988749895, 1.618033988749895, 1.618033988749895, 1.618033988749895, 1.618033988749895, 1.618033988749895, 1.618033988749895, 1.618033988749895, 1.618033988749895, 1.618033988749895, 1.618033988749895]\n",
      "\n",
      "Inverse Ratios: [1.0, 0.5, 0.6666666666666666, 0.6, 0.625, 0.6153846153846154, 0.6190476190476191, 0.6176470588235294, 0.6181818181818182, 0.6179775280898876, 0.6180555555555556, 0.6180257510729614, 0.6180371352785146, 0.6180327868852459, 0.6180344478216818, 0.6180338134001252, 0.6180340557275542, 0.6180339631667066, 0.6180339985218034, 0.618033985017358, 0.6180339901755971, 0.6180339882053251, 0.618033988957902, 0.6180339886704432, 0.6180339887802427, 0.618033988738303, 0.6180339887543226, 0.6180339887482036, 0.6180339887505408, 0.6180339887496481, 0.618033988749989, 0.6180339887498588, 0.6180339887499086, 0.6180339887498896, 0.6180339887498969, 0.6180339887498941, 0.6180339887498951, 0.6180339887498948, 0.6180339887498949, 0.6180339887498948, 0.6180339887498949, 0.6180339887498948, 0.6180339887498949, 0.6180339887498949, 0.6180339887498949, 0.6180339887498949, 0.6180339887498949, 0.6180339887498949, 0.6180339887498949, 0.6180339887498949]\n"
     ]
    }
   ],
   "source": [
    "inverse_ratios = [] # initializes the list of inverse ratios.\n",
    "ratios = [] # initalizes the list of ratios.\n",
    "\n",
    "# we use the previously established fibonacci list.\n",
    "\n",
    "# ratios\n",
    "\n",
    "for number in range(len(fibonacci)):\n",
    "    if number != len(fibonacci) - 1: # error handling for the last element of the fibonacci list, since there is no element after that to divide by, thereby avoiding an out of bounds error.\n",
    "        entry = fibonacci[number + 1] / fibonacci[number] # creates the ratio entry.\n",
    "        ratios.append(entry) # appends the entry to the list.\n",
    "    else:\n",
    "        break # breaks the loop for the last element of fibonacci.\n",
    "\n",
    "print(\"Ratios:\",ratios, end = \"\\n\\n\") # \\n is an escape sequence character, which adds a new line / line break.\n",
    "# the end argument of print() is used to end the printed statement with a character of the user's choice.\n",
    "\n",
    "# inverse ratios\n",
    "\n",
    "for number in range(len(fibonacci)):\n",
    "    if number != len(fibonacci) - 1: # error handling for the last element of the fibonacci list, since there is no element after that to divide by, thereby avoiding an out of bounds error.\n",
    "        entry = fibonacci[number] / fibonacci[number + 1] # creates the ratio entry.\n",
    "        inverse_ratios.append(entry) # appends the entry to the list.\n",
    "    else:\n",
    "        break # breaks the loop for the last element of fibonacci.\n",
    "\n",
    "print(\"Inverse Ratios:\",inverse_ratios)\n",
    "\n",
    "# https://www.geeksforgeeks.org/python-program-to-print-the-fibonacci-sequence/#:~:text=Fibonacci%20Numbers%20using%20Native%20Approach; Accessed: 02/01/2024"
   ]
  },
  {
   "cell_type": "markdown",
   "id": "758f04ff-94ee-458b-846f-05f97b67051a",
   "metadata": {},
   "source": [
    "### &#9989;&nbsp; Questions 3.3 (6 Points) \n",
    "\n",
    "1. (2 points) Do you notice something interesting in the printed numbers? How do the numbers change? Try googling the last number.\n",
    "2. (4 points) What type of loops did you use to write the above programs, **looping by value** or **looping by index**? If you used looping by value, can you re-write your code using looping by index? Instead, if you used looping by index, can you re-write your code using looping by value?\n",
    "\n",
    "You must explain your answers. \n",
    "\n",
    "**Note:** If you use code from the internet of AI tools you must cite the source by including a comment in your code (using the `#` symbol) that provides the URL that your code came from and the date you accessed that URL. If you used AI tools don't forget to add the prompt used. You must explain any new code (_e.g._ built-in python functions) that has not been covered in class. \n"
   ]
  },
  {
   "cell_type": "code",
   "execution_count": 7,
   "id": "27f2636e-95dd-4899-925b-2e4288626356",
   "metadata": {
    "tags": []
   },
   "outputs": [
    {
     "name": "stdout",
     "output_type": "stream",
     "text": [
      "Ratios: [1.0, 1.0, 2.0, 1.5, 1.6666666666666667, 1.6, 1.625, 1.6153846153846154, 1.619047619047619, 1.6176470588235294, 1.6181818181818182, 1.6179775280898876, 1.6180555555555556, 1.6180257510729614, 1.6180371352785146, 1.618032786885246, 1.618034447821682, 1.6180338134001253, 1.618034055727554, 1.6180339631667064, 1.6180339985218033, 1.618033985017358, 1.6180339901755971, 1.618033988205325, 1.618033988957902, 1.6180339886704431, 1.6180339887802426, 1.618033988738303, 1.6180339887543225, 1.6180339887482036, 1.6180339887505408, 1.6180339887496482, 1.618033988749989, 1.618033988749859, 1.6180339887499087, 1.6180339887498896, 1.618033988749897, 1.618033988749894, 1.6180339887498951, 1.6180339887498947, 1.618033988749895, 1.618033988749895, 1.618033988749895, 1.618033988749895, 1.618033988749895, 1.618033988749895, 1.618033988749895, 1.618033988749895, 1.618033988749895, 1.618033988749895, 1.618033988749895]\n",
      "\n",
      "Inverse Ratios: [1.0, 1.0, 2.0, 1.5, 1.6666666666666667, 1.6, 1.625, 1.6153846153846154, 1.619047619047619, 1.6176470588235294, 1.6181818181818182, 1.6179775280898876, 1.6180555555555556, 1.6180257510729614, 1.6180371352785146, 1.618032786885246, 1.618034447821682, 1.6180338134001253, 1.618034055727554, 1.6180339631667064, 1.6180339985218033, 1.618033985017358, 1.6180339901755971, 1.618033988205325, 1.618033988957902, 1.6180339886704431, 1.6180339887802426, 1.618033988738303, 1.6180339887543225, 1.6180339887482036, 1.6180339887505408, 1.6180339887496482, 1.618033988749989, 1.618033988749859, 1.6180339887499087, 1.6180339887498896, 1.618033988749897, 1.618033988749894, 1.6180339887498951, 1.6180339887498947, 1.618033988749895, 1.618033988749895, 1.618033988749895, 1.618033988749895, 1.618033988749895, 1.618033988749895, 1.618033988749895, 1.618033988749895, 1.618033988749895, 1.618033988749895, 1.618033988749895]\n"
     ]
    }
   ],
   "source": [
    "ratios = []\n",
    "inverse_ratios = []\n",
    "\n",
    "# ratios\n",
    "previous = fibonacci[0] # creates a new variable to carry the previous element by which one needs to divide by in the next iteration.\n",
    "\n",
    "for number in fibonacci:\n",
    "    entry = number / previous\n",
    "    previous = number # updates the value of the variable previous for the next iteration of the list.\n",
    "    ratios.append(entry)\n",
    "\n",
    "print(\"Ratios:\", ratios, end = \"\\n\\n\")\n",
    "\n",
    "# inverse ratios\n",
    "previous = fibonacci[0] # creates a new variable to carry the previous element by which one needs to divide by in the next iteration.\n",
    "\n",
    "for number in fibonacci:\n",
    "    entry = number / previous\n",
    "    previous = number # updates the value of the variable previous for the next iteration of the list.\n",
    "    inverse_ratios.append(entry)\n",
    "\n",
    "print(\"Inverse Ratios:\", inverse_ratios)"
   ]
  },
  {
   "cell_type": "markdown",
   "id": "9184685b-6793-4fd0-8deb-434a459267a0",
   "metadata": {},
   "source": [
    "<font size=6 color=\"#009600\">&#9998;</font> *Answer:*\n",
    "\n",
    "1) The numbers, as we go further, approaches 1.618. If we take te inverse, they approach 0.618. Upon googling the number, this number, from the Fibonacci sequence, is called the golden ratio.\n",
    "2) I looped by index. The above is the rewritten code where I looped by value."
   ]
  },
  {
   "cell_type": "markdown",
   "id": "6f717c6f",
   "metadata": {},
   "source": [
    "---\n",
    "<a id=\"part_4\"></a>\n",
    "\n",
    "## Part 4. Amortizing Loans (16 points)\n",
    "\n",
    "[Back to Top](#toc)\n",
    "\n",
    "\n",
    "An amortizing loan is a type of loan in which the borrower makes regular payments consisting of both principal and interest. These payments are designed to fully repay the loan by the end of its term. One common example of an amortizing loan is a fixed-rate mortgage for buying a home.\n",
    "\n",
    "An amortization schedule is a detailed table that outlines each payment on an amortizing loan, including the portion that goes toward paying off the principal amount and the portion that covers the interest. This schedule helps borrowers understand how their loan balance decreases over time. You can find more details [here](https://www.investopedia.com/terms/a/amortization.asp#toc-what-is-amortization) if you are interested. \n",
    "\n",
    "### &#9989;&nbsp; Question 4.1 (12 points)\n",
    "\n",
    "Your task is to create a Python program that generates an amortization schedule for a loan of \\$30,000 with an annual interest rate of 3% over a 4-year period. The program should print out the amortization schedule, including the amount of interest, the amount of payment towards the principal, and the remaining loan balance.\n",
    "\n",
    "**Formula for Monthly Payment:**\n",
    "\n",
    "The monthly payment on an amortizing loan can be calculated using the following formula:\n",
    "\n",
    "$$ M = \\frac{P \\cdot r \\cdot (1 + r)^N}{(1 + r)^N - 1} $$\n",
    "\n",
    "where\n",
    "- $M$ is the monthly payment.\n",
    "- $P$ is the principal loan amount (in this case, \\$ 30,000).\n",
    "- $r$ is the monthly interest rate, the annual interest rate divided by the number of months in a year.\n",
    "- $N$ is the total number of monthly payments (in this case, the loan term in months).\n",
    "\n",
    "The amount of interest paid in each monthly installment is obtained by multiplying the remaining balance times the monthly interest rate. \n",
    "\n",
    "**Sample Output:**\n",
    "\n",
    "Your program should generate an amortization schedule with numbers rounded to 2 decimal places. Here is a sample output\n",
    "\n",
    "| Month  | Amount of Interest | Amount of Payment Towards Principal | Remaining Balance |\n",
    "|--------|--------------------|-------------------------------------|-------------------|\n",
    "|        |                    |                                     | 30,000            |\n",
    "| 1      | 75                 | 589.03                              | 29,410.97         |\n",
    "| 2      | 73.53              | 590.50                              | 28,820.47         |\n",
    "| 3      | 72.05              | 591.98                              | 28,228.49         |\n",
    "| 4      | 70.57              | 593.46                              | 27,635.03         |\n",
    "\n",
    "Some started code is given below.\n",
    "\n",
    "**IMPORTANT:** If you use a `for` loop in Part 2, then you must use a `while` loop in here and viceversa. Otherwise you will receive only half the points.\n"
   ]
  },
  {
   "cell_type": "code",
   "execution_count": 8,
   "id": "639f8611-01e8-4f78-afff-cdea363c5cbb",
   "metadata": {
    "tags": []
   },
   "outputs": [
    {
     "name": "stdout",
     "output_type": "stream",
     "text": [
      "| Month |Monthly Payment|   Amount of Interest  |  Amount of Payment Towards Principal  |   Remaining Balance   |\n",
      "|-------|---------------|-----------------------|---------------------------------------|-----------------------|\n",
      "|\t|\t\t|\t\t\t|\t\t\t\t\t| 30000.00 \t\t|\n",
      "| 1 \t| 664.03 \t| 75.00 \t\t| 589.03 \t\t\t\t| 29410.97 \t\t|\n",
      "| 2 \t| 664.03 \t| 73.53 \t\t| 590.50 \t\t\t\t| 28820.47 \t\t|\n",
      "| 3 \t| 664.03 \t| 72.05 \t\t| 591.98 \t\t\t\t| 28228.49 \t\t|\n",
      "| 4 \t| 664.03 \t| 70.57 \t\t| 593.46 \t\t\t\t| 27635.03 \t\t|\n",
      "| 5 \t| 664.03 \t| 69.09 \t\t| 594.94 \t\t\t\t| 27040.09 \t\t|\n",
      "| 6 \t| 664.03 \t| 67.60 \t\t| 596.43 \t\t\t\t| 26443.66 \t\t|\n",
      "| 7 \t| 664.03 \t| 66.11 \t\t| 597.92 \t\t\t\t| 25845.74 \t\t|\n",
      "| 8 \t| 664.03 \t| 64.61 \t\t| 599.42 \t\t\t\t| 25246.32 \t\t|\n",
      "| 9 \t| 664.03 \t| 63.12 \t\t| 600.91 \t\t\t\t| 24645.41 \t\t|\n",
      "| 10 \t| 664.03 \t| 61.61 \t\t| 602.42 \t\t\t\t| 24042.99 \t\t|\n",
      "| 11 \t| 664.03 \t| 60.11 \t\t| 603.92 \t\t\t\t| 23439.07 \t\t|\n",
      "| 12 \t| 664.03 \t| 58.60 \t\t| 605.43 \t\t\t\t| 22833.64 \t\t|\n",
      "| 13 \t| 664.03 \t| 57.08 \t\t| 606.95 \t\t\t\t| 22226.69 \t\t|\n",
      "| 14 \t| 664.03 \t| 55.57 \t\t| 608.46 \t\t\t\t| 21618.23 \t\t|\n",
      "| 15 \t| 664.03 \t| 54.05 \t\t| 609.98 \t\t\t\t| 21008.24 \t\t|\n",
      "| 16 \t| 664.03 \t| 52.52 \t\t| 611.51 \t\t\t\t| 20396.74 \t\t|\n",
      "| 17 \t| 664.03 \t| 50.99 \t\t| 613.04 \t\t\t\t| 19783.70 \t\t|\n",
      "| 18 \t| 664.03 \t| 49.46 \t\t| 614.57 \t\t\t\t| 19169.13 \t\t|\n",
      "| 19 \t| 664.03 \t| 47.92 \t\t| 616.11 \t\t\t\t| 18553.02 \t\t|\n",
      "| 20 \t| 664.03 \t| 46.38 \t\t| 617.65 \t\t\t\t| 17935.37 \t\t|\n",
      "| 21 \t| 664.03 \t| 44.84 \t\t| 619.19 \t\t\t\t| 17316.18 \t\t|\n",
      "| 22 \t| 664.03 \t| 43.29 \t\t| 620.74 \t\t\t\t| 16695.44 \t\t|\n",
      "| 23 \t| 664.03 \t| 41.74 \t\t| 622.29 \t\t\t\t| 16073.15 \t\t|\n",
      "| 24 \t| 664.03 \t| 40.18 \t\t| 623.85 \t\t\t\t| 15449.30 \t\t|\n",
      "| 25 \t| 664.03 \t| 38.62 \t\t| 625.41 \t\t\t\t| 14823.90 \t\t|\n",
      "| 26 \t| 664.03 \t| 37.06 \t\t| 626.97 \t\t\t\t| 14196.93 \t\t|\n",
      "| 27 \t| 664.03 \t| 35.49 \t\t| 628.54 \t\t\t\t| 13568.39 \t\t|\n",
      "| 28 \t| 664.03 \t| 33.92 \t\t| 630.11 \t\t\t\t| 12938.28 \t\t|\n",
      "| 29 \t| 664.03 \t| 32.35 \t\t| 631.68 \t\t\t\t| 12306.60 \t\t|\n",
      "| 30 \t| 664.03 \t| 30.77 \t\t| 633.26 \t\t\t\t| 11673.33 \t\t|\n",
      "| 31 \t| 664.03 \t| 29.18 \t\t| 634.85 \t\t\t\t| 11038.49 \t\t|\n",
      "| 32 \t| 664.03 \t| 27.60 \t\t| 636.43 \t\t\t\t| 10402.05 \t\t|\n",
      "| 33 \t| 664.03 \t| 26.01 \t\t| 638.02 \t\t\t\t| 9764.03 \t\t|\n",
      "| 34 \t| 664.03 \t| 24.41 \t\t| 639.62 \t\t\t\t| 9124.41 \t\t|\n",
      "| 35 \t| 664.03 \t| 22.81 \t\t| 641.22 \t\t\t\t| 8483.19 \t\t|\n",
      "| 36 \t| 664.03 \t| 21.21 \t\t| 642.82 \t\t\t\t| 7840.37 \t\t|\n",
      "| 37 \t| 664.03 \t| 19.60 \t\t| 644.43 \t\t\t\t| 7195.94 \t\t|\n",
      "| 38 \t| 664.03 \t| 17.99 \t\t| 646.04 \t\t\t\t| 6549.90 \t\t|\n",
      "| 39 \t| 664.03 \t| 16.37 \t\t| 647.66 \t\t\t\t| 5902.24 \t\t|\n",
      "| 40 \t| 664.03 \t| 14.76 \t\t| 649.27 \t\t\t\t| 5252.97 \t\t|\n",
      "| 41 \t| 664.03 \t| 13.13 \t\t| 650.90 \t\t\t\t| 4602.07 \t\t|\n",
      "| 42 \t| 664.03 \t| 11.51 \t\t| 652.52 \t\t\t\t| 3949.55 \t\t|\n",
      "| 43 \t| 664.03 \t| 9.87 \t\t\t| 654.16 \t\t\t\t| 3295.39 \t\t|\n",
      "| 44 \t| 664.03 \t| 8.24 \t\t\t| 655.79 \t\t\t\t| 2639.60 \t\t|\n",
      "| 45 \t| 664.03 \t| 6.60 \t\t\t| 657.43 \t\t\t\t| 1982.17 \t\t|\n",
      "| 46 \t| 664.03 \t| 4.96 \t\t\t| 659.07 \t\t\t\t| 1323.10 \t\t|\n",
      "| 47 \t| 664.03 \t| 3.31 \t\t\t| 660.72 \t\t\t\t| 662.37 \t\t|\n",
      "| 48 \t| 664.03 \t| 1.66 \t\t\t| 662.37 \t\t\t\t| 0.00 \t\t\t|\n"
     ]
    }
   ],
   "source": [
    "P = 30000 # principal amount.\n",
    "r = 0.03/12 # monthly rate = annual rate / months in a year.\n",
    "N = 4 * 12 # loan term in months (4 years).\n",
    "balance = P # the balance to be paid - this variable will be updated with every iteration of the loop - the initial balance is the principal amount.\n",
    "M = (P * r *((1 + r)**N))/((((1 + r)**N))-1) # calculation of the monthly payment amount based on conditions given.\n",
    "\n",
    "print(\"| Month |Monthly Payment|   Amount of Interest  |  Amount of Payment Towards Principal  |   Remaining Balance   |\") # table header for the schedule.\n",
    "print(\"|-------|---------------|-----------------------|---------------------------------------|-----------------------|\")\n",
    "print(\"|\\t|\\t\\t|\\t\\t\\t|\\t\\t\\t\\t\\t|\",format(P, '.2f'),\"\\t\\t|\")\n",
    "\n",
    "\n",
    "for count in range(N): # initialization of the loop until the counter reaches the total number of months.\n",
    "    \n",
    "    # the purpose of conditional statements here is solely formatting.\n",
    "    # each row has a calculation concatenated to the formatting. amount of interest = rate * balance, ampunt of payment towards principal = monthly payment - interest.\n",
    "    # formatting of the numericals has been done with the format() and round() functions.\n",
    "    # '.2f' in the format() function has been used to ensure there are two signficant figures after the decimal point.\n",
    "    # count + 1 is used to add the month. since the range always starts from 0, the count variable is incremented by 1 to ensure the appropriate month is mentioned.\n",
    "    \n",
    "    if (balance - (M - (r * balance))) <= 0:\n",
    "        print(\"|\", count + 1,\"\\t|\", round(M, 2),\"\\t|\", format(abs(round(r * balance, 2)), '.2f'),\"\\t\\t\\t|\", format(round(M - (r * balance), 2), '.2f'),\"\\t\\t\\t\\t|\", format(abs(round(balance-(M - (r * balance)), 2)), '.2f'),\"\\t\\t\\t|\")\n",
    "    \n",
    "    elif r * balance < 10:\n",
    "        print(\"|\", count + 1,\"\\t|\", round(M, 2),\"\\t|\", format(abs(round(r * balance, 2)), '.2f'),\"\\t\\t\\t|\", format(round(M - (r * balance), 2), '.2f'),\"\\t\\t\\t\\t|\", format(abs(round(balance-(M - (r * balance)), 2)), '.2f'),\"\\t\\t|\")\n",
    "    \n",
    "    else:\n",
    "        print(\"|\", count + 1,\"\\t|\", round(M, 2),\"\\t|\", format(abs(round(r * balance, 2)), '.2f'),\"\\t\\t|\", format(round(M - (r * balance), 2), '.2f'),\"\\t\\t\\t\\t|\", format(abs(round(balance-(M - (r * balance)), 2)), '.2f'),\"\\t\\t|\")\n",
    "    \n",
    "    balance -= (M - (r * balance)) # balance calculation for the next iteration."
   ]
  },
  {
   "cell_type": "markdown",
   "id": "98b33a31-5d07-4d38-9ca1-c7701da0d92a",
   "metadata": {},
   "source": [
    "### &#9989;&nbsp; Questions 4.2 (4 Points) \n",
    "\n",
    "What type of loops did you use to write the above programs, **looping by value** or **looping by index**? If you used looping by value, can you re-write your code using looping by index? Instead, if you used looping by index, can you re-write your code using looping by value?\n",
    "\n",
    "You must explain your answers. \n",
    "\n",
    "**Note:** If you use code from the internet of AI tools you must cite the source by including a comment in your code (using the `#` symbol) that provides the URL that your code came from and the date you accessed that URL. If you used AI tools don't forget to add the prompt used. You must explain any new code (_e.g._ built-in python functions) that has not been covered in class. \n"
   ]
  },
  {
   "cell_type": "markdown",
   "id": "4eb7268d-bb51-47d7-990c-31cf59665a9d",
   "metadata": {},
   "source": [
    "<font size=6 color=\"#009600\">&#9998;</font> *Answer:*\n",
    "\n",
    "**Since there is no list involved in this scenario, the concept of looping by index or value does not stand, in my opinion.** However, for the sake of this question, I will establish a list of all months using the range function and traverse through it. In this case, the earlier code loops by index, and this code loops by value."
   ]
  },
  {
   "cell_type": "code",
   "execution_count": 9,
   "id": "eed50ff8-ef36-4eaa-bd52-4927c418454f",
   "metadata": {
    "tags": []
   },
   "outputs": [
    {
     "name": "stdout",
     "output_type": "stream",
     "text": [
      "| Month |Monthly Payment|   Amount of Interest  |  Amount of Payment Towards Principal  |   Remaining Balance   |\n",
      "|-------|---------------|-----------------------|---------------------------------------|-----------------------|\n",
      "|\t|\t\t|\t\t\t|\t\t\t\t\t| 30000.00 \t\t|\n",
      "| 1 \t| 664.03 \t| 75.00 \t\t| 589.03 \t\t\t\t| 29410.97 \t\t|\n",
      "| 2 \t| 664.03 \t| 73.53 \t\t| 590.50 \t\t\t\t| 28820.47 \t\t|\n",
      "| 3 \t| 664.03 \t| 72.05 \t\t| 591.98 \t\t\t\t| 28228.49 \t\t|\n",
      "| 4 \t| 664.03 \t| 70.57 \t\t| 593.46 \t\t\t\t| 27635.03 \t\t|\n",
      "| 5 \t| 664.03 \t| 69.09 \t\t| 594.94 \t\t\t\t| 27040.09 \t\t|\n",
      "| 6 \t| 664.03 \t| 67.60 \t\t| 596.43 \t\t\t\t| 26443.66 \t\t|\n",
      "| 7 \t| 664.03 \t| 66.11 \t\t| 597.92 \t\t\t\t| 25845.74 \t\t|\n",
      "| 8 \t| 664.03 \t| 64.61 \t\t| 599.42 \t\t\t\t| 25246.32 \t\t|\n",
      "| 9 \t| 664.03 \t| 63.12 \t\t| 600.91 \t\t\t\t| 24645.41 \t\t|\n",
      "| 10 \t| 664.03 \t| 61.61 \t\t| 602.42 \t\t\t\t| 24042.99 \t\t|\n",
      "| 11 \t| 664.03 \t| 60.11 \t\t| 603.92 \t\t\t\t| 23439.07 \t\t|\n",
      "| 12 \t| 664.03 \t| 58.60 \t\t| 605.43 \t\t\t\t| 22833.64 \t\t|\n",
      "| 13 \t| 664.03 \t| 57.08 \t\t| 606.95 \t\t\t\t| 22226.69 \t\t|\n",
      "| 14 \t| 664.03 \t| 55.57 \t\t| 608.46 \t\t\t\t| 21618.23 \t\t|\n",
      "| 15 \t| 664.03 \t| 54.05 \t\t| 609.98 \t\t\t\t| 21008.24 \t\t|\n",
      "| 16 \t| 664.03 \t| 52.52 \t\t| 611.51 \t\t\t\t| 20396.74 \t\t|\n",
      "| 17 \t| 664.03 \t| 50.99 \t\t| 613.04 \t\t\t\t| 19783.70 \t\t|\n",
      "| 18 \t| 664.03 \t| 49.46 \t\t| 614.57 \t\t\t\t| 19169.13 \t\t|\n",
      "| 19 \t| 664.03 \t| 47.92 \t\t| 616.11 \t\t\t\t| 18553.02 \t\t|\n",
      "| 20 \t| 664.03 \t| 46.38 \t\t| 617.65 \t\t\t\t| 17935.37 \t\t|\n",
      "| 21 \t| 664.03 \t| 44.84 \t\t| 619.19 \t\t\t\t| 17316.18 \t\t|\n",
      "| 22 \t| 664.03 \t| 43.29 \t\t| 620.74 \t\t\t\t| 16695.44 \t\t|\n",
      "| 23 \t| 664.03 \t| 41.74 \t\t| 622.29 \t\t\t\t| 16073.15 \t\t|\n",
      "| 24 \t| 664.03 \t| 40.18 \t\t| 623.85 \t\t\t\t| 15449.30 \t\t|\n",
      "| 25 \t| 664.03 \t| 38.62 \t\t| 625.41 \t\t\t\t| 14823.90 \t\t|\n",
      "| 26 \t| 664.03 \t| 37.06 \t\t| 626.97 \t\t\t\t| 14196.93 \t\t|\n",
      "| 27 \t| 664.03 \t| 35.49 \t\t| 628.54 \t\t\t\t| 13568.39 \t\t|\n",
      "| 28 \t| 664.03 \t| 33.92 \t\t| 630.11 \t\t\t\t| 12938.28 \t\t|\n",
      "| 29 \t| 664.03 \t| 32.35 \t\t| 631.68 \t\t\t\t| 12306.60 \t\t|\n",
      "| 30 \t| 664.03 \t| 30.77 \t\t| 633.26 \t\t\t\t| 11673.33 \t\t|\n",
      "| 31 \t| 664.03 \t| 29.18 \t\t| 634.85 \t\t\t\t| 11038.49 \t\t|\n",
      "| 32 \t| 664.03 \t| 27.60 \t\t| 636.43 \t\t\t\t| 10402.05 \t\t|\n",
      "| 33 \t| 664.03 \t| 26.01 \t\t| 638.02 \t\t\t\t| 9764.03 \t\t|\n",
      "| 34 \t| 664.03 \t| 24.41 \t\t| 639.62 \t\t\t\t| 9124.41 \t\t|\n",
      "| 35 \t| 664.03 \t| 22.81 \t\t| 641.22 \t\t\t\t| 8483.19 \t\t|\n",
      "| 36 \t| 664.03 \t| 21.21 \t\t| 642.82 \t\t\t\t| 7840.37 \t\t|\n",
      "| 37 \t| 664.03 \t| 19.60 \t\t| 644.43 \t\t\t\t| 7195.94 \t\t|\n",
      "| 38 \t| 664.03 \t| 17.99 \t\t| 646.04 \t\t\t\t| 6549.90 \t\t|\n",
      "| 39 \t| 664.03 \t| 16.37 \t\t| 647.66 \t\t\t\t| 5902.24 \t\t|\n",
      "| 40 \t| 664.03 \t| 14.76 \t\t| 649.27 \t\t\t\t| 5252.97 \t\t|\n",
      "| 41 \t| 664.03 \t| 13.13 \t\t| 650.90 \t\t\t\t| 4602.07 \t\t|\n",
      "| 42 \t| 664.03 \t| 11.51 \t\t| 652.52 \t\t\t\t| 3949.55 \t\t|\n",
      "| 43 \t| 664.03 \t| 9.87 \t\t\t| 654.16 \t\t\t\t| 3295.39 \t\t|\n",
      "| 44 \t| 664.03 \t| 8.24 \t\t\t| 655.79 \t\t\t\t| 2639.60 \t\t|\n",
      "| 45 \t| 664.03 \t| 6.60 \t\t\t| 657.43 \t\t\t\t| 1982.17 \t\t|\n",
      "| 46 \t| 664.03 \t| 4.96 \t\t\t| 659.07 \t\t\t\t| 1323.10 \t\t|\n",
      "| 47 \t| 664.03 \t| 3.31 \t\t\t| 660.72 \t\t\t\t| 662.37 \t\t|\n",
      "| 48 \t| 664.03 \t| 1.66 \t\t\t| 662.37 \t\t\t\t| 0.00 \t\t\t|\n"
     ]
    }
   ],
   "source": [
    "P = 30000 # principal amount.\n",
    "r = 0.03/12 # monthly rate = annual rate / months in a year.\n",
    "N = 4 * 12 # loan term in months (4 years).\n",
    "balance = P # the balance to be paid - this variable will be updated with every iteration of the loop - the initial balance is the principal amount.\n",
    "M = (P * r *((1 + r)**N))/((((1 + r)**N))-1) # calculation of the monthly payment amount based on conditions given.\n",
    "months = range(1, N + 1) # list of all months.\n",
    "\n",
    "print(\"| Month |Monthly Payment|   Amount of Interest  |  Amount of Payment Towards Principal  |   Remaining Balance   |\") # table header for the schedule.\n",
    "print(\"|-------|---------------|-----------------------|---------------------------------------|-----------------------|\")\n",
    "print(\"|\\t|\\t\\t|\\t\\t\\t|\\t\\t\\t\\t\\t|\",format(P, '.2f'),\"\\t\\t|\")\n",
    "\n",
    "\n",
    "for month in months: # initialization of the loop until the counter reaches the total number of months.\n",
    "    \n",
    "    # the purpose of conditional statements here is solely formatting.\n",
    "    # each row has a calculation concatenated to the formatting. amount of interest = rate * balance, ampunt of payment towards principal = monthly payment - interest.\n",
    "    # formatting of the numericals has been done with the format() and round() functions.\n",
    "    # '.2f' in the format() function has been used to ensure there are two signficant figures after the decimal point.\n",
    "    # count + 1 is used to add the month. since the range always starts from 0, the count variable is incremented by 1 to ensure the appropriate month is mentioned.\n",
    "    \n",
    "    if (balance - (M - (r * balance))) <= 0:\n",
    "        print(\"|\", month,\"\\t|\", round(M, 2),\"\\t|\", format(abs(round(r * balance, 2)), '.2f'),\"\\t\\t\\t|\", format(round(M - (r * balance), 2), '.2f'),\"\\t\\t\\t\\t|\", format(abs(round(balance-(M - (r * balance)), 2)), '.2f'),\"\\t\\t\\t|\")\n",
    "    \n",
    "    elif r * balance < 10:\n",
    "        print(\"|\", month,\"\\t|\", round(M, 2),\"\\t|\", format(abs(round(r * balance, 2)), '.2f'),\"\\t\\t\\t|\", format(round(M - (r * balance), 2), '.2f'),\"\\t\\t\\t\\t|\", format(abs(round(balance-(M - (r * balance)), 2)), '.2f'),\"\\t\\t|\")\n",
    "    \n",
    "    else:\n",
    "        print(\"|\", month,\"\\t|\", round(M, 2),\"\\t|\", format(abs(round(r * balance, 2)), '.2f'),\"\\t\\t|\", format(round(M - (r * balance), 2), '.2f'),\"\\t\\t\\t\\t|\", format(abs(round(balance-(M - (r * balance)), 2)), '.2f'),\"\\t\\t|\")\n",
    "    \n",
    "    balance -= (M - (r * balance)) # balance calculation for the next iteration."
   ]
  },
  {
   "cell_type": "markdown",
   "id": "deba248a-013e-41e7-88ba-1d2234d7cab6",
   "metadata": {},
   "source": [
    "The creation of a new list just to hold months is kind of redundant, which is why I have written the code using the while loop as well."
   ]
  },
  {
   "cell_type": "code",
   "execution_count": 10,
   "id": "ea5261de-654f-4aaa-bca8-a4915a534886",
   "metadata": {
    "tags": []
   },
   "outputs": [
    {
     "name": "stdout",
     "output_type": "stream",
     "text": [
      "| Month |Monthly Payment|   Amount of Interest  |  Amount of Payment Towards Principal  |   Remaining Balance   |\n",
      "|-------|---------------|-----------------------|---------------------------------------|-----------------------|\n",
      "|\t|\t\t|\t\t\t|\t\t\t\t\t| 30000.00 \t\t|\n",
      "| 1 \t| 664.03 \t| 75.00 \t\t| 589.03 \t\t\t\t| 29410.97 \t\t|\n",
      "| 2 \t| 664.03 \t| 73.53 \t\t| 590.50 \t\t\t\t| 28820.47 \t\t|\n",
      "| 3 \t| 664.03 \t| 72.05 \t\t| 591.98 \t\t\t\t| 28228.49 \t\t|\n",
      "| 4 \t| 664.03 \t| 70.57 \t\t| 593.46 \t\t\t\t| 27635.03 \t\t|\n",
      "| 5 \t| 664.03 \t| 69.09 \t\t| 594.94 \t\t\t\t| 27040.09 \t\t|\n",
      "| 6 \t| 664.03 \t| 67.60 \t\t| 596.43 \t\t\t\t| 26443.66 \t\t|\n",
      "| 7 \t| 664.03 \t| 66.11 \t\t| 597.92 \t\t\t\t| 25845.74 \t\t|\n",
      "| 8 \t| 664.03 \t| 64.61 \t\t| 599.42 \t\t\t\t| 25246.32 \t\t|\n",
      "| 9 \t| 664.03 \t| 63.12 \t\t| 600.91 \t\t\t\t| 24645.41 \t\t|\n",
      "| 10 \t| 664.03 \t| 61.61 \t\t| 602.42 \t\t\t\t| 24042.99 \t\t|\n",
      "| 11 \t| 664.03 \t| 60.11 \t\t| 603.92 \t\t\t\t| 23439.07 \t\t|\n",
      "| 12 \t| 664.03 \t| 58.60 \t\t| 605.43 \t\t\t\t| 22833.64 \t\t|\n",
      "| 13 \t| 664.03 \t| 57.08 \t\t| 606.95 \t\t\t\t| 22226.69 \t\t|\n",
      "| 14 \t| 664.03 \t| 55.57 \t\t| 608.46 \t\t\t\t| 21618.23 \t\t|\n",
      "| 15 \t| 664.03 \t| 54.05 \t\t| 609.98 \t\t\t\t| 21008.24 \t\t|\n",
      "| 16 \t| 664.03 \t| 52.52 \t\t| 611.51 \t\t\t\t| 20396.74 \t\t|\n",
      "| 17 \t| 664.03 \t| 50.99 \t\t| 613.04 \t\t\t\t| 19783.70 \t\t|\n",
      "| 18 \t| 664.03 \t| 49.46 \t\t| 614.57 \t\t\t\t| 19169.13 \t\t|\n",
      "| 19 \t| 664.03 \t| 47.92 \t\t| 616.11 \t\t\t\t| 18553.02 \t\t|\n",
      "| 20 \t| 664.03 \t| 46.38 \t\t| 617.65 \t\t\t\t| 17935.37 \t\t|\n",
      "| 21 \t| 664.03 \t| 44.84 \t\t| 619.19 \t\t\t\t| 17316.18 \t\t|\n",
      "| 22 \t| 664.03 \t| 43.29 \t\t| 620.74 \t\t\t\t| 16695.44 \t\t|\n",
      "| 23 \t| 664.03 \t| 41.74 \t\t| 622.29 \t\t\t\t| 16073.15 \t\t|\n",
      "| 24 \t| 664.03 \t| 40.18 \t\t| 623.85 \t\t\t\t| 15449.30 \t\t|\n",
      "| 25 \t| 664.03 \t| 38.62 \t\t| 625.41 \t\t\t\t| 14823.90 \t\t|\n",
      "| 26 \t| 664.03 \t| 37.06 \t\t| 626.97 \t\t\t\t| 14196.93 \t\t|\n",
      "| 27 \t| 664.03 \t| 35.49 \t\t| 628.54 \t\t\t\t| 13568.39 \t\t|\n",
      "| 28 \t| 664.03 \t| 33.92 \t\t| 630.11 \t\t\t\t| 12938.28 \t\t|\n",
      "| 29 \t| 664.03 \t| 32.35 \t\t| 631.68 \t\t\t\t| 12306.60 \t\t|\n",
      "| 30 \t| 664.03 \t| 30.77 \t\t| 633.26 \t\t\t\t| 11673.33 \t\t|\n",
      "| 31 \t| 664.03 \t| 29.18 \t\t| 634.85 \t\t\t\t| 11038.49 \t\t|\n",
      "| 32 \t| 664.03 \t| 27.60 \t\t| 636.43 \t\t\t\t| 10402.05 \t\t|\n",
      "| 33 \t| 664.03 \t| 26.01 \t\t| 638.02 \t\t\t\t| 9764.03 \t\t|\n",
      "| 34 \t| 664.03 \t| 24.41 \t\t| 639.62 \t\t\t\t| 9124.41 \t\t|\n",
      "| 35 \t| 664.03 \t| 22.81 \t\t| 641.22 \t\t\t\t| 8483.19 \t\t|\n",
      "| 36 \t| 664.03 \t| 21.21 \t\t| 642.82 \t\t\t\t| 7840.37 \t\t|\n",
      "| 37 \t| 664.03 \t| 19.60 \t\t| 644.43 \t\t\t\t| 7195.94 \t\t|\n",
      "| 38 \t| 664.03 \t| 17.99 \t\t| 646.04 \t\t\t\t| 6549.90 \t\t|\n",
      "| 39 \t| 664.03 \t| 16.37 \t\t| 647.66 \t\t\t\t| 5902.24 \t\t|\n",
      "| 40 \t| 664.03 \t| 14.76 \t\t| 649.27 \t\t\t\t| 5252.97 \t\t|\n",
      "| 41 \t| 664.03 \t| 13.13 \t\t| 650.90 \t\t\t\t| 4602.07 \t\t|\n",
      "| 42 \t| 664.03 \t| 11.51 \t\t| 652.52 \t\t\t\t| 3949.55 \t\t|\n",
      "| 43 \t| 664.03 \t| 9.87 \t\t\t| 654.16 \t\t\t\t| 3295.39 \t\t|\n",
      "| 44 \t| 664.03 \t| 8.24 \t\t\t| 655.79 \t\t\t\t| 2639.60 \t\t|\n",
      "| 45 \t| 664.03 \t| 6.60 \t\t\t| 657.43 \t\t\t\t| 1982.17 \t\t|\n",
      "| 46 \t| 664.03 \t| 4.96 \t\t\t| 659.07 \t\t\t\t| 1323.10 \t\t|\n",
      "| 47 \t| 664.03 \t| 3.31 \t\t\t| 660.72 \t\t\t\t| 662.37 \t\t|\n",
      "| 48 \t| 664.03 \t| 1.66 \t\t\t| 662.37 \t\t\t\t| 0.00 \t\t\t|\n"
     ]
    }
   ],
   "source": [
    "P = 30000 # principal amount.\n",
    "r = 0.03/12 # monthly rate = annual rate / months in a year.\n",
    "N = 4 * 12 # loan term in months (4 years).\n",
    "balance = P # the balance to be paid - this variable will be updated with every iteration of the loop - the initial balance is the principal amount.\n",
    "M = (P * r *((1 + r)**N))/((((1 + r)**N))-1) # calculation of the monthly payment amount based on conditions given.\n",
    "count = 1 # counter to control the loop.\n",
    "\n",
    "print(\"| Month |Monthly Payment|   Amount of Interest  |  Amount of Payment Towards Principal  |   Remaining Balance   |\") # table header for the schedule.\n",
    "print(\"|-------|---------------|-----------------------|---------------------------------------|-----------------------|\")\n",
    "print(\"|\\t|\\t\\t|\\t\\t\\t|\\t\\t\\t\\t\\t|\",format(P, '.2f'),\"\\t\\t|\")\n",
    "\n",
    "\n",
    "while count <= N: # initialization of the loop until the counter reaches the total number of months.\n",
    "    \n",
    "    # the purpose of conditional statements here is solely formatting.\n",
    "    # each row has a calculation concatenated to the formatting. amount of interest = rate * balance, ampunt of payment towards principal = monthly payment - interest.\n",
    "    # formatting of the numericals has been done with the format() and round() functions.\n",
    "    # '.2f' in the format() function has been used to ensure there are two signficant figures after the decimal point.\n",
    "    # count + 1 is used to add the month. since the range always starts from 0, the count variable is incremented by 1 to ensure the appropriate month is mentioned.\n",
    "    \n",
    "    if (balance - (M - (r * balance))) <= 0:\n",
    "        print(\"|\", count,\"\\t|\", round(M, 2),\"\\t|\", format(abs(round(r * balance, 2)), '.2f'),\"\\t\\t\\t|\", format(round(M - (r * balance), 2), '.2f'),\"\\t\\t\\t\\t|\", format(abs(round(balance-(M - (r * balance)), 2)), '.2f'),\"\\t\\t\\t|\")\n",
    "    \n",
    "    elif r * balance < 10:\n",
    "        print(\"|\", count,\"\\t|\", round(M, 2),\"\\t|\", format(abs(round(r * balance, 2)), '.2f'),\"\\t\\t\\t|\", format(round(M - (r * balance), 2), '.2f'),\"\\t\\t\\t\\t|\", format(abs(round(balance-(M - (r * balance)), 2)), '.2f'),\"\\t\\t|\")\n",
    "    \n",
    "    else:\n",
    "        print(\"|\", count,\"\\t|\", round(M, 2),\"\\t|\", format(abs(round(r * balance, 2)), '.2f'),\"\\t\\t|\", format(round(M - (r * balance), 2), '.2f'),\"\\t\\t\\t\\t|\", format(abs(round(balance-(M - (r * balance)), 2)), '.2f'),\"\\t\\t|\")\n",
    "    \n",
    "    count += 1 # increment to the counter to ensure loop ends.\n",
    "    balance -= (M - (r * balance)) # balance calculation for the next iteration."
   ]
  },
  {
   "cell_type": "markdown",
   "id": "4b80fe67-dd9a-49a3-8829-ed9b548eb1c9",
   "metadata": {},
   "source": [
    "---\n",
    "<a id=\"part_5\"></a>\n",
    "\n",
    "## Part 5. Dictionaries and everything else (7 points)\n",
    "\n",
    "[Back to Top](#toc)\n",
    "\n",
    "Occasionally during this class you will be expected to learn a new Python concept \"on-the-fly\". This is when it becomes important for you to be able to digest Python documentation and do some intelligent Googling. For this part of the assignment, you're going to see if you can pick up a bit about how another Python data container works, the **dictionary**.\n",
    "\n",
    "Dictionaries are like lists in the sense that we have some object (e.g. integer, string, etc.) occupying a position in the dictionary. However, dictionaries differ in that we refer to each element by a **key** rather than an integer index. For example, in the dictionary `example_dict` in the cell below, the key string `\"red\"` corresponds to the **value** integer `-2`, the key string `\"green\"` corresponds to the value string `\"beach_ball\"`. We can include values of different types in the same dictionary, just as we did with lists above.\n",
    "\n",
    "__*IMPORTANT:*__ Keys may be of any type, but an element can only be accessed by its specific key. Even though `\"red\"` is the first key, `example_dict[0]` is not a valid way to access it. Also note that dictionaries are written using **curly braces `{}`**; lists use **square brackets `[]`**. The key-value pairs are separated by a **colon `:`**."
   ]
  },
  {
   "cell_type": "raw",
   "id": "b4772a2a-eaf8-4ed7-b429-77b4bdba57fa",
   "metadata": {},
   "source": [
    "# Here is how to define a dictionary in Python with strings as keys\n",
    "example_dict = {\"red\": -2, \"orange\": \"Cata\", \"green\": \"beach_ball\", \"blue\": 25}\n",
    "\n",
    "# This outputs the value that corresponds to the key \"red\"\n",
    "example_dict[\"red\"]\n",
    "\n",
    "# The following line will error, because integer 1 is not a valid key for this dictionary\n",
    "example_dict[1]\n"
   ]
  },
  {
   "cell_type": "markdown",
   "id": "1b370b70-aa95-4ec3-ac4c-47085b5f7ab9",
   "metadata": {},
   "source": [
    "In addition to the above example, here is a table that highlights some of the other properties of dictionaries in Python (you may need to scroll side-to-side):"
   ]
  },
  {
   "cell_type": "markdown",
   "id": "89adadd3-8a27-4d7d-aa94-098b2f8d8493",
   "metadata": {},
   "source": [
    "|Container Type $\\hspace{0.5in}$|Mutable or Immutable $\\hspace{0.5in}$|Initialization *Without* Values $\\hspace{0.9in}$|Initializtion *With* Values $\\hspace{2.5in}$|Adding Values to Container $\\hspace{3.5in}$|Removing Values from Container $\\hspace{2.0in}$|Modifying Values $\\hspace{2.0in}$|Access Method $\\hspace{1.0in}$|Notable Operations and Additional Information $\\hspace{2.5in}$|\n",
    "|:---|:---|:---|:---|:---|:---|:---|:---|:---|\n",
    "|**Dictionary**|Mutable| `student={}` | `>>> student={'name': 'John Doe', 'age': 22, 'college': 'MSU'}` | `>>> student['major']='Computer Science'` <br> `>>> student` <br> `{'name': 'John Doe', 'age': 22, 'college': 'MSU', 'major': 'Computer Science'}` | `del dictName[keyName] #This method removes all entries associated with the given key` | `>>> student['age'] = 23` <br> `>>> student` <br> `{'name': 'John Doe', 'age': 23, 'college': 'MSU', 'major': 'Computer Science'}`| Access by key word. Note that this key **must** be a string. <br> `>>>student['college']` <br> `MSU`| The 'in' keyword can be very helpful with dictionaries. Ex: <br><ul><li>`'k' in dict #Returns true if key 'k' is in dictionary dict`</li><li>`'k' not in dict #Returns true if key 'k' is not in dicitonary dict`</li><li>`for key in dict #This will iterate over all keys in dictionary dict`</li></ul> <br>See webpage [here](http://www.python-course.eu/python3_dictionaries.php) for additional helpful methods and operations|"
   ]
  },
  {
   "cell_type": "markdown",
   "id": "2102b54e-3dbc-4f48-9e19-ac8712cc6124",
   "metadata": {},
   "source": [
    "### &#9989;&nbsp; Question 5.1 (3 Points) \n",
    "\n",
    "**Define a dictionary called `cmse_201`**. There will be 4 elements in your dictionary. The keys should be the strings `\"Instructor\"`, `\"TA\"`, `\"Section\"`, and `\"Class Days\"`. The values assigned to each key should be your respective instructor, TA, section number (e.g. 1, 2, 3, or 5), and a _list_ that contains the days of the week that the course meets. Once you've created it, print your dictionary.\n"
   ]
  },
  {
   "cell_type": "code",
   "execution_count": 11,
   "id": "40c955fe-e22a-4f66-8d0b-76def8433d9c",
   "metadata": {},
   "outputs": [],
   "source": [
    "cmse_201 = {\"Instructor\": \"Bao, Liangzhang\", \"TA\": \"Strachan, Steven\", \"Section\": 2, \"Class Days\": [\"Monday\", \"Wednesday\"]}"
   ]
  },
  {
   "cell_type": "markdown",
   "id": "063dfe41-67e5-46f5-b100-fc9a716429ab",
   "metadata": {},
   "source": [
    "### &#9989;&nbsp; Question 5.2 (4 Points) \n",
    "\n",
    "As you can see dictionaries can be a great way to store data. Assume you live in a time where streaming services did not exist and you actually had hard copies of movies (DVD, VideoCassettes, etc..), music albums (Music cassette, CD, Vinyl, etc...), and books (ever heard of a library?). Now imagine you work for Blockbuster, or a record store, or a library and you have to make a catalog of their collection. \n",
    "\n",
    "**Write** a dictionary whose keys are (choose one):\n",
    "\n",
    "1. **Records Store Music:** by storing artist' name(s), albums, release year, genre(s), type of technology (Vinyl, CD, music casette), aisle number, shelf number\n",
    "2. **Blockbuster Movies:** by storing movie title, release year, director, cast, technology (DVD, Bluray, VC, IMAX, etc.), IMDB rating, genre(s), aisle number, shelf number\n",
    "3. **Library Books:** by storing book author, title, publisher, year, genre(s), type of cover (hardcover, paperback), aisle number, shelf number\n",
    "\n",
    "Now, store 5 to 10 of your favorite (directors, artists, authors) and for each store 3 or more titles (movies, albums, books). If you don't have favorites you can pick them from the internet.\n",
    "\n",
    "**Note** that each dictionary has the keys **aisle number** and **shelf number**. These indicate where the item is stored so that if a customer asks, you (as the clerk) can easily find the item for them. You can choose these however you want, _e.g._ Aisle 1, Shelf 2"
   ]
  },
  {
   "cell_type": "code",
   "execution_count": 12,
   "id": "13712167-8e1e-4b7a-ad29-c5ffe1994d88",
   "metadata": {},
   "outputs": [],
   "source": [
    "# i have created a nested dictionary, with the keys of the primary dictionary being the titles, and the nested secondary dictionaries being the details of the title.\n",
    "# in the secondary dictionary, the keys are the names of the details. some of the details require a collection of entries, for which the data-type of the value is a list.\n",
    "\n",
    "library_records = {\"1984\": {\"author\": \"George Orwell\", \"publisher\": \"Secker & Warburg\", \"year\": 1949, \n",
    "                            \"genre\": [\"fiction\", \"dystopia\", \"political\"], \n",
    "                            \"cover\": [\"hardback\", \"paperback\"], \"aisle\": 1, \"shelf\": 1},\n",
    "                   \"Animal Farm\": {\"author\": \"George Orwell\", \"publisher\": \"Secker & Warburg\", \"year\": 1945, \n",
    "                                   \"genre\": [\"fiction\", \"satire\", \"political\"], \n",
    "                                   \"cover\": [\"hardback\", \"paperback\"], \"aisle\": 1, \"shelf\": 1},\n",
    "                   \"Homage to Catalonia\": {\"author\": \"George Orwell\", \"publisher\": \"Secker & Warburg\", \"year\": 1938, \n",
    "                                           \"genre\": [\"non-fiction\", \"political\"], \n",
    "                                           \"cover\": [\"hardback\", \"paperback\"], \"aisle\": 1, \"shelf\": 2},\n",
    "                   \"The Handmaid's Tale\": {\"author\": \"Margaret Atwood\", \"publisher\": \"McClelland & Stewart\", \"year\": 1985, \n",
    "                                           \"genre\": [\"fiction\", \"tragedy\", \"dystopia\", \"speculative\", \"political\"], \n",
    "                                           \"cover\": [\"hardback\", \"paperback\"], \"aisle\": 1, \"shelf\": 1},\n",
    "                   \"The Testaments\": {\"author\": \"Margaret Atwood\", \"publisher\": \"McClelland & Stewart\", \"year\": 2019, \n",
    "                                      \"genre\": [\"fiction\", \"sci-fi\", \"dystopia\", \"speculative\", \"political\"], \n",
    "                                      \"cover\": [\"hardback\"], \"aisle\": 1, \"shelf\": 1},\n",
    "                   \"Oryx and Crake\": {\"author\": \"Margaret Atwood\", \"publisher\": \"McClelland & Stewart\", \"year\": 2003, \n",
    "                                      \"genre\": [\"fiction\", \"sci-fi\", \"dystopia\", \"speculative\"], \n",
    "                                      \"cover\": [\"hardback\", \"paperback\"], \"aisle\": 2, \"shelf\": 1},\n",
    "                   \"The Guns of the South\": {\"author\": \"Harry Turtledove\", \"publisher\": \"Ballantine\", \"year\": 1992, \n",
    "                                      \"genre\": [\"fiction\", \"alternate history\"], \n",
    "                                      \"cover\": [\"hardback\", \"paperback\"], \"aisle\": 3, \"shelf\": 1},\n",
    "                   \"In the Balance\": {\"author\": \"Harry Turtledove\", \"publisher\": \"Del Rey Books\", \"year\": 1994, \n",
    "                                      \"genre\": [\"fiction\", \"alternate history\"], \n",
    "                                      \"cover\": [\"hardback\"], \"aisle\": 3, \"shelf\": 1},\n",
    "                   \"How Few Remain\": {\"author\": \"Harry Turtledove\", \"publisher\": \"Ballantine\", \"year\": 1997, \n",
    "                                      \"genre\": [\"fiction\", \"alternate history\"], \n",
    "                                      \"cover\": [\"hardback\", \"paperback\"], \"aisle\": 3, \"shelf\": 1},\n",
    "                   \"The Alchemist\": {\"author\": \"Paulo Coelho\", \"publisher\": \"HarperTorch\", \"year\": 1993, \n",
    "                                     \"genre\": [\"fiction\", \"fantasy\"], \n",
    "                                     \"cover\": [\"hardback\", \"paperback\"], \"aisle\": 4, \"shelf\": 1},\n",
    "                   \"The Zahir\": {\"author\": \"Paulo Coelho\", \"publisher\": \"Harper Perennial\", \"year\": 2005, \n",
    "                                 \"genre\": [\"fiction\", \"novel\"], \n",
    "                                 \"cover\": [\"hardback\", \"paperback\"], \"aisle\": 4, \"shelf\": 1},\n",
    "                   \"Aleph\": {\"author\": \"Paulo Coelho\", \"publisher\": \"HarperCollins\", \"year\": 2011, \n",
    "                             \"genre\": [\"fiction\", \"autobiography\", \"philosophy\"], \n",
    "                             \"cover\": [\"hardback\", \"paperback\"], \"aisle\": 4, \"shelf\": 2},\n",
    "                   \"Charlie and the Chocolate Factory\": {\"author\": \"Roald Dahl\", \"publisher\": \"Scholastic\", \"year\": 1964, \n",
    "                                                         \"genre\": [\"fiction\", \"fantasy\", \"children\"], \n",
    "                                                         \"cover\": [\"hardback\", \"paperback\"], \"aisle\": 5, \"shelf\": 1},\n",
    "                   \"Charlie and the Great Glass Elevator\": {\"author\": \"Roald Dahl\", \"publisher\": \"Alfred A. Knopf\", \"year\": 1972, \n",
    "                                                            \"genre\": [\"fiction\", \"fantasy\", \"children\", \"sci-fi\"], \n",
    "                                                            \"cover\": [\"hardback\", \"paperback\"], \"aisle\": 5, \"shelf\": 1},\n",
    "                   \"The BFG\": {\"author\": \"Roald Dahl\", \"publisher\": \"Penguin Books\", \"year\": 1982, \n",
    "                               \"genre\": [\"fiction\", \"fantasy\", \"children\", \"sci-fi\"], \n",
    "                               \"cover\": [\"paperback\"], \"aisle\": 5, \"shelf\": 1}}"
   ]
  },
  {
   "cell_type": "markdown",
   "id": "91e5b4d9-6bb3-4922-9c2e-7607956a37b0",
   "metadata": {},
   "source": [
    "---\n",
    "<a id=\"part_6\"></a>\n",
    "\n",
    "## Part 6. Conditional statements and debugging (6 points): \n",
    "[Back to Top](#toc)\n",
    "\n",
    "In the code cell below there is an complete working code that does not throw an error, but it does have a bug. The code is supposed to assign a letter grade to each student based on this rubric\n",
    "\n",
    "        A if greater or equal than 90\n",
    "        B if greater or equal than 80 but less than 90\n",
    "        C if greater or equal than 70 but less than 80\n",
    "        D if greater or equal than 60 but less than 70\n",
    "        F if less than 60\n",
    "\n",
    "At the end the code stores the letter grade into the list `students_letter_grades`.\n",
    "However, it gives the wrong answer. Giulia should get a \"C\" not a \"D\"\n"
   ]
  },
  {
   "cell_type": "code",
   "execution_count": 13,
   "id": "bd589f8f-4f4a-48d8-bd0f-d31e9ecd68a5",
   "metadata": {},
   "outputs": [
    {
     "name": "stdout",
     "output_type": "stream",
     "text": [
      "['Giuseppe_F', 'Giulia_D', 'Marco_D', 'Isabella_D', 'Mario_D', 'Federica_D', 'Alessandro_D', 'Valentina_D', 'Davide_D', 'Eleonora_D', 'Antonio_D', 'Martina_D', 'Roberto_D', 'Francesca_D', 'Lorenzo_D']\n"
     ]
    }
   ],
   "source": [
    "students_names = ['Giuseppe', 'Giulia', 'Marco',\n",
    "                  'Isabella', 'Mario', 'Federica',\n",
    "                  'Alessandro', 'Valentina', 'Davide',\n",
    "                  'Eleonora', 'Antonio','Martina', \n",
    "                  'Roberto', 'Francesca', 'Lorenzo']\n",
    "\n",
    "students_grades = [50, 72, 74, \n",
    "                   67, 100, 96,\n",
    "                   97, 86, 70,\n",
    "                   74, 76, 93,\n",
    "                   96, 87, 82]\n",
    "\n",
    "students_letter_grades = [] \n",
    "\n",
    "for index in range(len(students_grades)):\n",
    "    \n",
    "    grade = students_grades[index] \n",
    "    \n",
    "    name = students_names[index]\n",
    "    \n",
    "    # PUT HERE YOUR CODE FOR CALCULATING THE LETTER GRADE\n",
    "    if grade >= 90:\n",
    "        letter_grade = \"A\"\n",
    "    \n",
    "    if grade >= 80:\n",
    "        letter_grade = \"B\"\n",
    "    \n",
    "    if grade >= 70:\n",
    "        letter_grade = \"C\"\n",
    "    \n",
    "    if grade >= 60:\n",
    "        letter_grade = \"D\"\n",
    "    \n",
    "    if grade < 60:\n",
    "        letter_grade = \"F\"\n",
    "    \n",
    "    students_letter_grades.append( name + \"_\" + letter_grade )\n",
    "\n",
    "print(students_letter_grades)"
   ]
  },
  {
   "cell_type": "markdown",
   "id": "00d45727-7e56-48aa-9860-10983c96162f",
   "metadata": {},
   "source": [
    "### &#9989;&nbsp; **Question 6.1 (6 points):** \n",
    "\n",
    "In the cell below, answer the following questions\n",
    "\n",
    "1. A plain english description of the error in the code and why you get the error. (2 points)\n",
    "2. How would you fix this bug ? (2 points) \n",
    "3. Create a new cell and write your solution in there. (2 points)"
   ]
  },
  {
   "cell_type": "markdown",
   "id": "e05f83e7-334d-4ae9-9b74-3a93793753a2",
   "metadata": {},
   "source": [
    "<font size=+3>&#9998;</font> *Answer:*\n",
    "\n",
    "1. In the conditional statements, the statements following the first `if` are also `if` statements instead of `elif`-`else` statements, which is why the decision-making process restarts at every new block, instead of continuing in a singular flow and eliminating each level.\n",
    "2. This can be fixed by changing the subsequent `if` statements to `elif` statements, while the ultimate `if` statement should be completely replaced with `else`. Another approach is changing each block into an individual decision making statement by adding upper limits to each `if` statement's condition using the `and` logical operator.\n",
    "3. You can find the debugged code below:"
   ]
  },
  {
   "cell_type": "code",
   "execution_count": 14,
   "id": "a2847e5d-8b4d-4a41-8a9c-9ca903840721",
   "metadata": {
    "tags": []
   },
   "outputs": [
    {
     "name": "stdout",
     "output_type": "stream",
     "text": [
      "['Giuseppe_F', 'Giulia_C', 'Marco_C', 'Isabella_D', 'Mario_A', 'Federica_A', 'Alessandro_A', 'Valentina_B', 'Davide_C', 'Eleonora_C', 'Antonio_C', 'Martina_A', 'Roberto_A', 'Francesca_B', 'Lorenzo_B']\n"
     ]
    }
   ],
   "source": [
    "students_names = ['Giuseppe', 'Giulia', 'Marco',\n",
    "                  'Isabella', 'Mario', 'Federica',\n",
    "                  'Alessandro', 'Valentina', 'Davide',\n",
    "                  'Eleonora', 'Antonio','Martina', \n",
    "                  'Roberto', 'Francesca', 'Lorenzo']\n",
    "\n",
    "students_grades = [50, 72, 74, \n",
    "                   67, 100, 96,\n",
    "                   97, 86, 70,\n",
    "                   74, 76, 93,\n",
    "                   96, 87, 82]\n",
    "\n",
    "students_letter_grades = [] \n",
    "\n",
    "for index in range(len(students_grades)):\n",
    "    \n",
    "    grade = students_grades[index] \n",
    "    \n",
    "    name = students_names[index]\n",
    "    \n",
    "    # Letter Grade Calculation\n",
    "    if grade >= 90:\n",
    "        letter_grade = \"A\"\n",
    "    \n",
    "    elif grade >= 80 and grade < 90: # Correction Made.\n",
    "        letter_grade = \"B\"\n",
    "    \n",
    "    elif grade >= 70 and grade < 80: # Correction Made.\n",
    "        letter_grade = \"C\"\n",
    "    \n",
    "    elif grade >= 60 and grade < 70: # Correction Made.\n",
    "        letter_grade = \"D\"\n",
    "    \n",
    "    else: # Correction Made.\n",
    "        letter_grade = \"F\"\n",
    "    \n",
    "    students_letter_grades.append( name + \"_\" + letter_grade )\n",
    "\n",
    "print(students_letter_grades)"
   ]
  },
  {
   "cell_type": "markdown",
   "id": "281eb271",
   "metadata": {},
   "source": [
    "---\n",
    "## Wait! Before you submit your notebook, read the following important recommendations\n",
    "\n",
    "When your TA opens your notebook to grade the assignment, it will be really useful if your notebook is saved in a fully executed state so that they can see the output of all your code. Additionally, it may be necessary from time to time for the TA to actually run your notebook, but when they run the notebook, it is important that you are certain that all the code will actually run for them!\n",
    "\n",
    "You should get into the following habit: **before you save and submit your final notebook for your assignments, go to the \"Kernel\" tab at the top of the notebook and select \"Restart and Run all\".** This will restart your notebook and try to run the code cell-by-cell from the top to the bottom. Once it finished, review you notebook and make sure there weren't any errors that popped up. Sometimes, when working with notebooks, we accidentally change code in one cell that break our code in another cell. If your TA stumbles across code cells that don't work, **they will likely have to give you a zero for those portions of the notebook that don't work**. Testing your notebook one last time is a good way to make sure this doesn't happen.\n",
    "\n",
    "**Once you've tested your whole notebook again, make sure you save it one last time before you upload it to D2L.**"
   ]
  },
  {
   "cell_type": "markdown",
   "id": "883c1744",
   "metadata": {},
   "source": [
    "---\n",
    "\n",
    "### Congratulations, you're done! ###\n",
    "\n",
    "Submit this assignment by uploading it to the course Desire2Learn web page. Go to the \"Homework Assignments\" section, find the submission folder link for Homework #1, and upload it there."
   ]
  },
  {
   "cell_type": "markdown",
   "id": "6eb06430",
   "metadata": {},
   "source": [
    "Copyright &#169; 2023, [Department of Computational Mathematics, Science and Engineering](https://cmse.msu.edu/) at Michigan State University, All rights reserved."
   ]
  }
 ],
 "metadata": {
  "kernelspec": {
   "display_name": "Python 3.11 (default)",
   "language": "python",
   "name": "python3"
  },
  "language_info": {
   "codemirror_mode": {
    "name": "ipython",
    "version": 3
   },
   "file_extension": ".py",
   "mimetype": "text/x-python",
   "name": "python",
   "nbconvert_exporter": "python",
   "pygments_lexer": "ipython3",
   "version": "3.11.11"
  },
  "vscode": {
   "interpreter": {
    "hash": "57d964a2ef938b66daa93f67207194045a8aae98a88dc0c9d20f5f06155eead0"
   }
  },
  "widgets": {
   "application/vnd.jupyter.widget-state+json": {
    "state": {},
    "version_major": 2,
    "version_minor": 0
   }
  }
 },
 "nbformat": 4,
 "nbformat_minor": 5
}
