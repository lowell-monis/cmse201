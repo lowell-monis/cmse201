{
 "cells": [
  {
   "cell_type": "markdown",
   "id": "a3c4aa76-23aa-4873-9959-1939a459837e",
   "metadata": {},
   "source": [
    "# CMSE 201: Quiz 1 (Spring 2024) \n",
    "\n",
    "## <p style=\"text-align: right;\"> &#9989; Lowell Monis</p>"
   ]
  },
  {
   "cell_type": "markdown",
   "id": "91c9c720-2656-45a2-af5f-ed692cf0f3ea",
   "metadata": {},
   "source": [
    "## Goals and Instructions\n",
    "\n",
    "The goal of this quiz is to give you the opportunity to test out some of the skills that you've developed thus far this semester. In particular, you'll reflect on what you know about writing code using Python and showcase some of your new programming skills.\n",
    "\n",
    "**Important note about using online resources**: This exam is \"open internet\". That means that you can look up documentation, google how to accomplish certain Python tasks, etc. Being able to effectively use the internet for computational modeling and data science is a very important skill, so we want to make sure you have the opportunity to exercise that skill. **However, the use of any person-to-person communication software is absolutely not acceptable.**\n",
    "\n",
    "**You cannot use ChatGPT or any other artificial intelligence tool. If you do you get 0 points!!!**\n",
    "\n",
    "**Do your own work.** This quiz is designed to give *you* the opportunity to show the instructor what you can do and you should hold yourself accountable for maintaining a high level of academic integrity. Any violation of academic integrity could result in you receiving a zero on the quiz.\n",
    "\n",
    "There are a total of **30 points** possible on this quiz and each part of the quiz can be done independently. **If you get stuck _move on to another part of the quiz to earn some points there!_**\n",
    "\n",
    "![Moira](https://media.giphy.com/media/26gs78HRO8sOuhTkQ/giphy.gif)"
   ]
  },
  {
   "cell_type": "markdown",
   "id": "b3e96d40-da31-48c3-884e-2090a3ff89eb",
   "metadata": {},
   "source": [
    "---\n",
    "<a id=\"toc\"></a>\n",
    "\n",
    "## Table of Contents\n",
    "\n",
    "[Part 0. Academic Integrity Statement](#part_0) (1 point)\n",
    "\n",
    "[Part 1. Variables](#part_1)  (5 points)\n",
    "\n",
    "[Part 2. Lists and Indexing](#part_2)  (4 points)\n",
    "\n",
    "[Part 3. Elementwise operations via loops](#part_3) (9 points)\n",
    "\n",
    "[Part 4. Loops and conditional statements](#part_4) (11 points)"
   ]
  },
  {
   "cell_type": "code",
   "execution_count": 1,
   "id": "350b24e1-b778-459b-ab33-c18daf09c22b",
   "metadata": {
    "tags": []
   },
   "outputs": [
    {
     "name": "stdout",
     "output_type": "stream",
     "text": [
      "The total number of points is : 30\n"
     ]
    }
   ],
   "source": [
    "points_list = [1, 5, 4, 9, 11 ]\n",
    "\n",
    "print(f\"The total number of points is : {sum(points_list)}\")"
   ]
  },
  {
   "cell_type": "markdown",
   "id": "3e97893b-bc8d-451a-9798-365ca0a70c87",
   "metadata": {},
   "source": [
    "---\n",
    "<a id=\"part_0\"></a>\n",
    "\n",
    "# Academic integrity statement (1 points)\n",
    "\n",
    "[Back to Top](#toc)\n",
    "\n",
    "In the markdown cell below, put your personal academic integrity statement. By including this statement, you are confirming that you are submitting this as your own work and not that of someone else.\n"
   ]
  },
  {
   "cell_type": "markdown",
   "id": "bf744a00-192a-40b2-b89b-c2cc0d716286",
   "metadata": {},
   "source": [
    "<font size=+3>&#9998;</font>\n",
    "\n",
    "I, `Lowell Paul Monis`, commit to the standard of integrity demanded from me as a Spartan. I recall the Spartan Code of Honor and Ethics, and invoke it within the scope of my own personal invocation of ethics in this declaration. Keeping in mind the blood, sweat, and tears behind my sheer existence on this campus, the joy and encouragement I receive from a succesfull venture, and my firm belief in hard and honest work, I will strive to ensure that all work done in order to fulfill the requirements of this course is my own, bona fide effort, and if I do use any source of information and incorporate it in my work, I will fortify my usage of that source with appropriate attribution. I will stand by this statement on pain of penalty, as the instructor deems fit."
   ]
  },
  {
   "cell_type": "markdown",
   "id": "d342f1a0-b964-4872-9a4b-fa2fd2e7fc56",
   "metadata": {},
   "source": [
    "---\n",
    "<a id=\"part_1\"></a>\n",
    "\n",
    "# Part 1. Variables (5 points)\n",
    "[Back to Top](#toc)\n",
    "\n",
    "In the first cell below, define **two** variables: one holding your name as a string and the other holding the number of how many pets you have, as an **integer**.\n",
    "\n",
    "In the second cell below, write a print statement (using your two variables defined in the first cell) that prints a complete sentence stating your name and the number you choose. Remember to put spaces.\n"
   ]
  },
  {
   "cell_type": "code",
   "execution_count": 3,
   "id": "b0b75a79",
   "metadata": {
    "tags": []
   },
   "outputs": [],
   "source": [
    "# define your variables here\n",
    "\n",
    "my_name = \"Lowell Monis\"\n",
    "number_of_pets = 0"
   ]
  },
  {
   "cell_type": "code",
   "execution_count": 5,
   "id": "49c9dd40",
   "metadata": {
    "tags": []
   },
   "outputs": [
    {
     "name": "stdout",
     "output_type": "stream",
     "text": [
      "My name is Lowell Monis and I have 0 pets.\n"
     ]
    }
   ],
   "source": [
    "# write your print statement here\n",
    "\n",
    "print(\"My name is\", my_name, \"and I have\", number_of_pets, \"pets.\") # I use commas to concatenate strings in the print() function as opposed to + symbols as they automatically add spaces."
   ]
  },
  {
   "cell_type": "markdown",
   "id": "a7d37a3f-0009-4baa-8478-eb15c620fbd8",
   "metadata": {},
   "source": [
    "---\n",
    "<a id=\"part_2\"></a>\n",
    "\n",
    "# Part 2. Lists and Indexing (4 points)\n",
    "[Back to top](#toc)\n",
    "\n",
    "In the cell below, define a list that holds the names of at least 5 animals, but make it so that the first animal in your list is **dog**. Then, using indices to access the values in your list, write a print statement that prints animals in alphabetic order.\n",
    "\n"
   ]
  },
  {
   "cell_type": "code",
   "execution_count": 7,
   "id": "abee1bfa-7c5c-4384-8864-a6ec952b7289",
   "metadata": {
    "tags": []
   },
   "outputs": [
    {
     "name": "stdout",
     "output_type": "stream",
     "text": [
      "bear, dodo, dog, lion, orangutan, tiger\n"
     ]
    }
   ],
   "source": [
    "# put your code here\n",
    "\n",
    "list_of_animals = [\"dog\", \"orangutan\", \"tiger\", \"lion\", \"bear\", \"dodo\"]\n",
    "\n",
    "print(list_of_animals[4], list_of_animals[5], list_of_animals[0], list_of_animals[3], list_of_animals[1], list_of_animals[2], sep = \", \")"
   ]
  },
  {
   "cell_type": "markdown",
   "id": "7e4b3775-a4c4-4686-a303-f286b78595b3",
   "metadata": {},
   "source": [
    "---\n",
    "<a id=\"part_3\"></a>\n",
    "\n",
    "# Part 3. Elementwise operations via loops (9 points): \n",
    "[Back to Top](#toc)\n",
    "\n",
    "You work for a bookstore, specifically helping them figure out how much they need to spend on ordering books. The information is stored in three lists:\n",
    "- One with the name of the book \n",
    "- One with the quantity of that book that they need \n",
    "- One with the price of the book \n",
    "\n",
    "**Your Boss needs a piece of code that will calculate the total cost of books, so they can make up the budget.**  Your task is to \n",
    "\n",
    "- fine the total cost of each book,\n",
    "- store each total cost into a new list called `total_cost`,\n",
    "- calculate the sum of the new list `total_cost`\n",
    "- print the total cost\n"
   ]
  },
  {
   "cell_type": "code",
   "execution_count": 11,
   "id": "a7677abd-6033-4300-ad68-6042557b8f7c",
   "metadata": {
    "tags": []
   },
   "outputs": [
    {
     "name": "stdout",
     "output_type": "stream",
     "text": [
      "The total cost to stock the user-input books is: USD 8001.75\n"
     ]
    }
   ],
   "source": [
    "book_names = [\"Trust\", \"Arcanus\", \"The Godfather\", \"Surviving The Forest\", \"A Game of Thrones\", \"Deep Learning\"]\n",
    "book_quantity = [20, 50, 40, 60, 90, 45]\n",
    "book_prices = [8.5, 25.0, 49.1, 18.20, 23, 32.35]\n",
    "\n",
    "# Put your code here\n",
    "\n",
    "total_cost = []\n",
    "\n",
    "for index in range(len(book_names)):\n",
    "    book_total_cost = book_quantity[index] * book_prices[index]\n",
    "    total_cost.append(book_total_cost)\n",
    "\n",
    "sum_cost = 0\n",
    "\n",
    "for cost in total_cost: # the in-built Python list function sum() could also be used.\n",
    "    sum_cost += cost\n",
    "\n",
    "print(\"The total cost to stock the user-input books is: USD\", sum_cost)"
   ]
  },
  {
   "cell_type": "markdown",
   "id": "49be1b35-f7c0-4e3b-91de-85b276463c32",
   "metadata": {},
   "source": [
    "---\n",
    "<a id=\"part_4\"></a>\n",
    "\n",
    "# Part 4. Loops and conditional statements (11 points): \n",
    "[Back to Top](#toc)\n",
    "\n",
    "The code below is supposed to assign a person to a category based on this rubric\n",
    "\n",
    "        Not an adult if the age is less than 18\n",
    "        An adult below the drinking age if the age is greater or equal to 18 but less than 21\n",
    "        An adult if the age is greater or equal to 21 \n",
    "        \n",
    "In the end, the code stores the category into the list `people_category`. The code will run into an error, try to figure it out and fix it.\n"
   ]
  },
  {
   "cell_type": "code",
   "execution_count": 35,
   "id": "bd589f8f-4f4a-48d8-bd0f-d31e9ecd68a5",
   "metadata": {},
   "outputs": [
    {
     "ename": "TypeError",
     "evalue": "'list' object cannot be interpreted as an integer",
     "output_type": "error",
     "traceback": [
      "\u001b[0;31m---------------------------------------------------------------------------\u001b[0m",
      "\u001b[0;31mTypeError\u001b[0m                                 Traceback (most recent call last)",
      "Cell \u001b[0;32mIn[35], line 15\u001b[0m\n\u001b[1;32m      7\u001b[0m ages_list \u001b[38;5;241m=\u001b[39m [\u001b[38;5;241m18\u001b[39m, \u001b[38;5;241m21\u001b[39m, \u001b[38;5;241m19\u001b[39m, \n\u001b[1;32m      8\u001b[0m              \u001b[38;5;241m25\u001b[39m, \u001b[38;5;241m46\u001b[39m, \u001b[38;5;241m16\u001b[39m,\n\u001b[1;32m      9\u001b[0m              \u001b[38;5;241m27\u001b[39m, \u001b[38;5;241m26\u001b[39m, \u001b[38;5;241m40\u001b[39m,\n\u001b[1;32m     10\u001b[0m              \u001b[38;5;241m34\u001b[39m, \u001b[38;5;241m56\u001b[39m, \u001b[38;5;241m13\u001b[39m,\n\u001b[1;32m     11\u001b[0m              \u001b[38;5;241m16\u001b[39m, \u001b[38;5;241m27\u001b[39m, \u001b[38;5;241m42\u001b[39m]\n\u001b[1;32m     13\u001b[0m people_category \u001b[38;5;241m=\u001b[39m [] \n\u001b[0;32m---> 15\u001b[0m \u001b[38;5;28;01mfor\u001b[39;00m index \u001b[38;5;129;01min\u001b[39;00m \u001b[38;5;28;43mrange\u001b[39;49m\u001b[43m(\u001b[49m\u001b[43mpeople_list\u001b[49m\u001b[43m)\u001b[49m:\n\u001b[1;32m     17\u001b[0m     age \u001b[38;5;241m=\u001b[39m ages_list[index] \n\u001b[1;32m     19\u001b[0m     name \u001b[38;5;241m=\u001b[39m people_list[index]\n",
      "\u001b[0;31mTypeError\u001b[0m: 'list' object cannot be interpreted as an integer"
     ]
    }
   ],
   "source": [
    "people_list = ['Giuseppe', 'Giulia', 'Marco',\n",
    "                  'Isabella', 'Mario', 'Federica',\n",
    "                  'Alessandro', 'Valentina', 'Davide',\n",
    "                  'Eleonora', 'Antonio','Martina', \n",
    "                  'Roberto', 'Francesca', 'Lorenzo']\n",
    "\n",
    "ages_list = [18, 21, 19, \n",
    "             25, 46, 16,\n",
    "             27, 26, 40,\n",
    "             34, 56, 13,\n",
    "             16, 27, 42]\n",
    "\n",
    "people_category = [] \n",
    "\n",
    "for index in range(people_list):\n",
    "    \n",
    "    age = ages_list[index] \n",
    "    \n",
    "    name = people_list[index]\n",
    "    \n",
    "    # PUT HERE YOUR CODE FOR ASSIGNING CATEGORY\n",
    "    if age < 18:\n",
    "        cate = \"not an adult\"\n",
    "    \n",
    "    elif age >= 18 and age < 21:\n",
    "        cate = \"an adult below the drinking age\"\n",
    "    \n",
    "    else:\n",
    "        cate  = \"an adult\"\n",
    "    \n",
    "    people_category.append( name + \" is \" + cate )\n",
    "\n",
    "print(people_category)"
   ]
  },
  {
   "cell_type": "markdown",
   "id": "75a65704-30f7-4059-b09d-eb662b570864",
   "metadata": {},
   "source": [
    "&#9989;&nbsp; **Part 4.1 (6 points):** In the cell below, answer the following questions\n",
    "\n",
    "1. The line of code that caused the error(s) (1 point)\n",
    "2. Where appropriate, the type of error it is (i.e. the error code) (1 point)\n",
    "3. A plain English description of the error(s) in the code (2 points)\n",
    "4. How you would solve or do solve the error(s) (2 points)"
   ]
  },
  {
   "cell_type": "markdown",
   "id": "bd00855d-f663-4904-8510-04d1b2dbdd1a",
   "metadata": {},
   "source": [
    "<font size=+3>&#9998;</font> *Put your answer here.*\n",
    "\n",
    "1. Line 15\n",
    "\n",
    "2. TypeError\n",
    "\n",
    "3. The person who wrote this code attempted to create a range using an entire list of strings, instead of integers between which they want the range. The range() function requires the user to input only integers as arguments.\n"
   ]
  },
  {
   "cell_type": "code",
   "execution_count": 9,
   "id": "1d6d87ae-4956-4d18-9486-44e76b235683",
   "metadata": {
    "tags": []
   },
   "outputs": [
    {
     "name": "stdout",
     "output_type": "stream",
     "text": [
      "['Giuseppe is an adult below the drinking age', 'Giulia is an adult', 'Marco is an adult below the drinking age', 'Isabella is an adult', 'Mario is an adult', 'Federica is not an adult', 'Alessandro is an adult', 'Valentina is an adult', 'Davide is an adult', 'Eleonora is an adult', 'Antonio is an adult', 'Martina is not an adult', 'Roberto is not an adult', 'Francesca is an adult', 'Lorenzo is an adult']\n"
     ]
    }
   ],
   "source": [
    "### 4. Put your solution here\n",
    "\n",
    "people_list = ['Giuseppe', 'Giulia', 'Marco',\n",
    "                  'Isabella', 'Mario', 'Federica',\n",
    "                  'Alessandro', 'Valentina', 'Davide',\n",
    "                  'Eleonora', 'Antonio','Martina', \n",
    "                  'Roberto', 'Francesca', 'Lorenzo']\n",
    "\n",
    "ages_list = [18, 21, 19, \n",
    "             25, 46, 16,\n",
    "             27, 26, 40,\n",
    "             34, 56, 13,\n",
    "             16, 27, 42]\n",
    "\n",
    "people_category = [] \n",
    "\n",
    "for index in range(len(people_list)): # correction made here to add the length of the list, which is an integer and can be passed to range(); probably what the original author intended to do.\n",
    "    \n",
    "    age = ages_list[index] \n",
    "    \n",
    "    name = people_list[index]\n",
    "    \n",
    "    # PUT HERE YOUR CODE FOR ASSIGNING CATEGORY\n",
    "    if age < 18:\n",
    "        cate = \"not an adult\"\n",
    "    \n",
    "    elif age >= 18 and age < 21:\n",
    "        cate = \"an adult below the drinking age\"\n",
    "    \n",
    "    else:\n",
    "        cate  = \"an adult\"\n",
    "    \n",
    "    people_category.append( name + \" is \" + cate )\n",
    "\n",
    "print(people_category)"
   ]
  },
  {
   "cell_type": "markdown",
   "id": "5f12cac7-6428-4058-8d93-db412200193f",
   "metadata": {},
   "source": [
    "&#9989;&nbsp; **Part 4.2 (5 points):** Answer the following questions in the cell below\n",
    "\n",
    "1. Is your code \"**looping by index**\" or \"**looping by value**\"? (1 point) \n",
    "2. Do you think you could you solve the problem using the other kind of `for` loop? Why or why not? (4 points)\n"
   ]
  },
  {
   "cell_type": "markdown",
   "id": "cdbed604-4a8e-4170-a44c-fdecd1b5585b",
   "metadata": {},
   "source": [
    "<font size=+3>&#9998;</font> *Answer:*\n",
    "\n",
    "1. The above code is looping by index.\n",
    "2. No. The above program depends on data from multiple lists. If I was to loop by value, it would be redundant to do so, since I would need the corresponding index anyways to access the corresponding data of the person from the other lists. If the data was in a single list, in the form of nested lists or strings, however, looping by value would make sense and would even by efficient."
   ]
  },
  {
   "cell_type": "markdown",
   "id": "7febf615-5e94-44c0-8426-e637db906521",
   "metadata": {},
   "source": [
    "---\n",
    "\n",
    "# Congratulations, you're done!\n",
    "\n",
    "Submit this quiz by uploading it to the course Desire2Learn web page.  \n",
    "\n",
    "Go to the **Quizzes** section, find the submission folder link for **Quiz 01**, and upload it there.\n",
    "\n",
    "\n",
    "![Moira2](https://media.giphy.com/media/d1E2HnwywoTkES08/giphy.gif)"
   ]
  },
  {
   "cell_type": "markdown",
   "id": "d980fbdf-9a5b-4eff-84b8-8c9529ea7dcc",
   "metadata": {},
   "source": [
    "&#169; Copyright 2023,  Department of Computational Mathematics, Science and Engineering at Michigan State University."
   ]
  }
 ],
 "metadata": {
  "kernelspec": {
   "display_name": "Python 3.11 (default)",
   "language": "python",
   "name": "python3"
  },
  "language_info": {
   "codemirror_mode": {
    "name": "ipython",
    "version": 3
   },
   "file_extension": ".py",
   "mimetype": "text/x-python",
   "name": "python",
   "nbconvert_exporter": "python",
   "pygments_lexer": "ipython3",
   "version": "3.11.11"
  }
 },
 "nbformat": 4,
 "nbformat_minor": 5
}
